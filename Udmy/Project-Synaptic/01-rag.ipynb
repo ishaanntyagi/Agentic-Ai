{
 "cells": [
  {
   "cell_type": "code",
   "execution_count": 1,
   "id": "6229584b",
   "metadata": {},
   "outputs": [],
   "source": [
    "from langchain.document_loaders import PyPDFLoader\n",
    "from langchain.text_splitter import RecursiveCharacterTextSplitter\n",
    "from langchain_groq import ChatGroq\n",
    "from langchain_google_genai import ChatGoogleGenerativeAI\n",
    "from langchain.embeddings import HuggingFaceEmbeddings\n",
    "from langchain.vectorstores import Chroma, FAISS\n",
    "import os\n",
    "import pathlib\n",
    "import dotenv\n",
    "from langchain_core.messages import AIMessage, HumanMessage\n",
    "from pprint import pprint\n"
   ]
  },
  {
   "cell_type": "code",
   "execution_count": 2,
   "id": "1d94b960",
   "metadata": {},
   "outputs": [],
   "source": [
    "from dotenv import load_dotenv\n",
    "load_dotenv()\n",
    "\n",
    "openai_api_key     = os.getenv(\"OPENAI_API_KEY\")\n",
    "gemini_api_key     = os.getenv(\"GEMINI_API_KEY\")\n",
    "groq_api_key       = os.getenv(\"GROQ_API_KEY\")\n",
    "langchain_api_key  = os.getenv(\"LANGCHAIN_API_KEY\")\n",
    "perplexity_api_key = os.getenv(\"PERPLEXITY_API_KEY\")"
   ]
  },
  {
   "cell_type": "code",
   "execution_count": 3,
   "id": "0ec762bf",
   "metadata": {},
   "outputs": [
    {
     "name": "stdout",
     "output_type": "stream",
     "text": [
      "medical report loaded\n",
      "loaded doc has : 1 Page\n"
     ]
    }
   ],
   "source": [
    "#loading The PDF\n",
    "\n",
    "loader = PyPDFLoader(r\"C:\\Users\\ishaa\\Downloads\\sample_medical_report.pdf\")\n",
    "medical_report = loader.load()\n",
    "print(\"medical report loaded\")\n",
    "print(f\"loaded doc has : {len(medical_report)} Page\")\n"
   ]
  },
  {
   "cell_type": "code",
   "execution_count": 4,
   "id": "7e37c4d6",
   "metadata": {},
   "outputs": [
    {
     "name": "stdout",
     "output_type": "stream",
     "text": [
      "Chunks created\n",
      "7 : length of chunks\n"
     ]
    }
   ],
   "source": [
    "#text Spiltter \n",
    "splitter = RecursiveCharacterTextSplitter(\n",
    "    chunk_size = 150,\n",
    "    chunk_overlap = 20,\n",
    "    length_function = len, #To count the CharS\n",
    ")\n",
    "chunks = splitter.split_documents(medical_report)\n",
    "print(\"Chunks created\")\n",
    "print(f\"{len(chunks)} : length of chunks\")      "
   ]
  },
  {
   "cell_type": "code",
   "execution_count": 5,
   "id": "f91c15f2",
   "metadata": {},
   "outputs": [
    {
     "name": "stderr",
     "output_type": "stream",
     "text": [
      "C:\\Users\\ishaa\\AppData\\Local\\Temp\\ipykernel_19360\\1603069342.py:7: LangChainDeprecationWarning: The class `HuggingFaceEmbeddings` was deprecated in LangChain 0.2.2 and will be removed in 1.0. An updated version of the class exists in the :class:`~langchain-huggingface package and should be used instead. To use it run `pip install -U :class:`~langchain-huggingface` and import as `from :class:`~langchain_huggingface import HuggingFaceEmbeddings``.\n",
      "  embeddings = HuggingFaceEmbeddings(\n"
     ]
    },
    {
     "name": "stdout",
     "output_type": "stream",
     "text": [
      "Embedding model loaded From Huggingface\n"
     ]
    }
   ],
   "source": [
    "from langchain.embeddings import HuggingFaceEmbeddings\n",
    "\n",
    "model_name = \"sentence-transformers/all-mpnet-base-v2\"\n",
    "model_kwargs = {'device': 'cpu'} \n",
    "encode_kwargs = {'normalize_embeddings': False}\n",
    "\n",
    "embeddings = HuggingFaceEmbeddings(\n",
    "    model_name=model_name,\n",
    "    model_kwargs=model_kwargs,\n",
    "    encode_kwargs=encode_kwargs\n",
    ")\n",
    "\n",
    "print(\"Embedding model loaded From Huggingface\")"
   ]
  },
  {
   "cell_type": "code",
   "execution_count": 6,
   "id": "bd56951b",
   "metadata": {},
   "outputs": [
    {
     "name": "stdout",
     "output_type": "stream",
     "text": [
      "The Embeddings have been made @ c:\\Users\\ishaa\\OneDrive\\Desktop\\AgenticAi\\Agentic-Ai\\Udmy\\Project-Synaptic\\faiss_index\n"
     ]
    }
   ],
   "source": [
    "#The embeddings and the vectpor Db part \n",
    "db = FAISS.from_documents(chunks,embeddings)\n",
    "db.save_local(\"faiss_index\")\n",
    "current_directory = os.getcwd()\n",
    "index_path = os.path.join(current_directory, \"faiss_index\")\n",
    "print(f\"The Embeddings have been made @ {index_path}\")"
   ]
  },
  {
   "cell_type": "code",
   "execution_count": 7,
   "id": "d7a7ccc3",
   "metadata": {},
   "outputs": [
    {
     "name": "stdout",
     "output_type": "stream",
     "text": [
      "Databade Loaded\n"
     ]
    }
   ],
   "source": [
    "from langchain.vectorstores import FAISS\n",
    "from langchain.embeddings import HuggingFaceEmbeddings\n",
    "\n",
    "embeddings = HuggingFaceEmbeddings(model_name=\"sentence-transformers/all-mpnet-base-v2\")\n",
    "\n",
    "db = FAISS.load_local(\"faiss_index\", embeddings, allow_dangerous_deserialization=True)\n",
    "\n",
    "print(\"Databade Loaded\")"
   ]
  },
  {
   "cell_type": "code",
   "execution_count": 8,
   "id": "4c385178",
   "metadata": {},
   "outputs": [
    {
     "name": "stdout",
     "output_type": "stream",
     "text": [
      "retriever created : \n",
      " tags=['FAISS', 'HuggingFaceEmbeddings'] vectorstore=<langchain_community.vectorstores.faiss.FAISS object at 0x0000027D18E3F4D0> search_kwargs={}\n"
     ]
    }
   ],
   "source": [
    "#Creating The context retriever \n",
    "\n",
    "retriever = db.as_retriever()\n",
    "print(f\"retriever created : \\n {retriever}\")"
   ]
  },
  {
   "cell_type": "code",
   "execution_count": 9,
   "id": "48c6cbd8",
   "metadata": {},
   "outputs": [],
   "source": [
    "# Lets make The user choose whatever model he/she wantes to use: \n",
    "#function will be Createsd to let  User Choose between \n",
    "from langchain_groq import ChatGroq\n",
    "from langchain_google_genai import GoogleGenerativeAI\n",
    "from langchain_perplexity import ChatPerplexity \n",
    "from langchain_ollama import ChatOllama\n",
    "from langchain_core.messages import AIMessage , HumanMessage"
   ]
  },
  {
   "cell_type": "code",
   "execution_count": 14,
   "id": "6c2ab75c",
   "metadata": {},
   "outputs": [],
   "source": [
    "from langchain_community.llms import Ollama\n",
    "from langchain_groq import ChatGroq\n",
    "from langchain_perplexity import ChatPerplexity\n",
    "from langchain.chains import create_retrieval_chain\n",
    "from langchain.chains.combine_documents import create_stuff_documents_chain\n",
    "from langchain_core.prompts import ChatPromptTemplate\n",
    "from pprint import pprint\n",
    "import os\n",
    "from langchain.chains.combine_documents import create_stuff_documents_chain\n",
    "from langchain_core.prompts import ChatPromptTemplate\n",
    "from langchain_core.messages import HumanMessage, AIMessage\n",
    "from langchain_core.prompts import ChatPromptTemplate, MessagesPlaceholder \n",
    "from pprint import pprint\n",
    "import os"
   ]
  },
  {
   "cell_type": "code",
   "execution_count": 15,
   "id": "58326560",
   "metadata": {},
   "outputs": [
    {
     "name": "stdout",
     "output_type": "stream",
     "text": [
      "System : Starting Ollama model\n"
     ]
    },
    {
     "name": "stderr",
     "output_type": "stream",
     "text": [
      "C:\\Users\\ishaa\\AppData\\Local\\Temp\\ipykernel_19360\\814006130.py:8: LangChainDeprecationWarning: The class `Ollama` was deprecated in LangChain 0.3.1 and will be removed in 1.0.0. An updated version of the class exists in the :class:`~langchain-ollama package and should be used instead. To use it run `pip install -U :class:`~langchain-ollama` and import as `from :class:`~langchain_ollama import OllamaLLM``.\n",
      "  return Ollama(model=\"llama3\")\n"
     ]
    }
   ],
   "source": [
    "def get_llm():\n",
    "\n",
    "    while True:\n",
    "        user_choice = input(\"Enter the model you want to use For the ChatBot Purposes (ollama, groq, perplexity): \").lower()\n",
    "\n",
    "        if user_choice == \"ollama\":\n",
    "            print(\"System : Starting Ollama model\")\n",
    "            return Ollama(model=\"llama3\")\n",
    "        \n",
    "        elif user_choice == \"groq\":\n",
    "            print(\"System : Starting model(qwen-32b)...\")\n",
    "            return ChatGroq(model=\"qwen/qwen3-32b\", groq_api_key=os.getenv(\"GROQ_API_KEY\"))\n",
    "            \n",
    "        elif user_choice == \"perplexity\":\n",
    "            print(\"System : Starting model FROM PERPLEXITY\")\n",
    "            return ChatPerplexity(model=\"llama-3-sonar-large-32k-online\", perplexity_api_key=os.getenv(\"PERPLEXITY_API_KEY\"))\n",
    "            \n",
    "        else:\n",
    "            print(\"INVALID CHOICE\")\n",
    "\n",
    "    print(\"System Started Successfully\")\n",
    "\n",
    "llm = get_llm()"
   ]
  },
  {
   "cell_type": "code",
   "execution_count": 16,
   "id": "8b7a4339",
   "metadata": {},
   "outputs": [],
   "source": [
    "prompt = ChatPromptTemplate.from_messages([\n",
    "    (\"system\", \"\"\"\n",
    "    You are an advanced AI medical assistant. Your primary goal is to answer questions using the provided medical report in the <context>. However, you may enrich your answers with general medical knowledge to provide clarity.\n",
    "\n",
    "    **Your Core Operating Procedure:**\n",
    "    1.  **Prioritize the Document:** Always start by looking for the answer in the provided <context>. This is your primary source of truth.\n",
    "    2.  **Enrich with General Knowledge:** If the document mentions a specific medical term (e.g., \"bradycardia\"), first use the context to describe the patient's specific case. Then, you may add a general definition from your own knowledge.\n",
    "    3.  **Attribute Your Sources (Crucial Rule):** You MUST clearly distinguish between information from the document and general knowledge. Use phrases like \"According to the report...\" or \"For context, in general medicine...\".\n",
    "    4.  **Medical Disclaimer:** Never provide a direct diagnosis or medical advice. Always recommend consulting a qualified healthcare professional.\n",
    "    \"\"\"),\n",
    "    MessagesPlaceholder(variable_name=\"chat_history\"),\n",
    "    (\"human\", \"\"\"\n",
    "    **Context from the medical report:**\n",
    "    <context>\n",
    "    {context}\n",
    "    </context>\n",
    "\n",
    "    **User's Question:**\n",
    "    {input}\n",
    "    \"\"\"),\n",
    "])"
   ]
  }
 ],
 "metadata": {
  "kernelspec": {
   "display_name": "Python 3",
   "language": "python",
   "name": "python3"
  },
  "language_info": {
   "codemirror_mode": {
    "name": "ipython",
    "version": 3
   },
   "file_extension": ".py",
   "mimetype": "text/x-python",
   "name": "python",
   "nbconvert_exporter": "python",
   "pygments_lexer": "ipython3",
   "version": "3.11.9"
  }
 },
 "nbformat": 4,
 "nbformat_minor": 5
}
