{
 "cells": [
  {
   "cell_type": "code",
   "execution_count": 1,
   "id": "6229584b",
   "metadata": {},
   "outputs": [],
   "source": [
    "from langchain.document_loaders import PyPDFLoader\n",
    "from langchain.text_splitter import RecursiveCharacterTextSplitter\n",
    "from langchain_groq import ChatGroq\n",
    "from langchain_google_genai import ChatGoogleGenerativeAI\n",
    "from langchain.embeddings import HuggingFaceEmbeddings\n",
    "from langchain.vectorstores import Chroma, FAISS\n",
    "import os\n",
    "import pathlib\n",
    "import dotenv\n",
    "from langchain_core.messages import AIMessage, HumanMessage\n",
    "from pprint import pprint\n"
   ]
  },
  {
   "cell_type": "code",
   "execution_count": 2,
   "id": "1d94b960",
   "metadata": {},
   "outputs": [],
   "source": [
    "from dotenv import load_dotenv\n",
    "load_dotenv()\n",
    "\n",
    "openai_api_key     = os.getenv(\"OPENAI_API_KEY\")\n",
    "gemini_api_key     = os.getenv(\"GEMINI_API_KEY\")\n",
    "groq_api_key       = os.getenv(\"GROQ_API_KEY\")\n",
    "langchain_api_key  = os.getenv(\"LANGCHAIN_API_KEY\")\n",
    "perplexity_api_key = os.getenv(\"PERPLEXITY_API_KEY\")"
   ]
  },
  {
   "cell_type": "code",
   "execution_count": 3,
   "id": "0ec762bf",
   "metadata": {},
   "outputs": [
    {
     "name": "stdout",
     "output_type": "stream",
     "text": [
      "medical report loaded\n",
      "loaded doc has : 1 Page\n"
     ]
    }
   ],
   "source": [
    "#loading The PDF\n",
    "\n",
    "loader = PyPDFLoader(r\"C:\\Users\\ishaa\\Downloads\\sample_medical_report.pdf\")\n",
    "medical_report = loader.load()\n",
    "print(\"medical report loaded\")\n",
    "print(f\"loaded doc has : {len(medical_report)} Page\")\n"
   ]
  },
  {
   "cell_type": "code",
   "execution_count": 4,
   "id": "7e37c4d6",
   "metadata": {},
   "outputs": [
    {
     "name": "stdout",
     "output_type": "stream",
     "text": [
      "Chunks created\n",
      "7 : length of chunks\n"
     ]
    }
   ],
   "source": [
    "#text Spiltter \n",
    "splitter = RecursiveCharacterTextSplitter(\n",
    "    chunk_size = 150,\n",
    "    chunk_overlap = 20,\n",
    "    length_function = len, #To count the CharS\n",
    ")\n",
    "chunks = splitter.split_documents(medical_report)\n",
    "print(\"Chunks created\")\n",
    "print(f\"{len(chunks)} : length of chunks\")      "
   ]
  },
  {
   "cell_type": "code",
   "execution_count": 5,
   "id": "f91c15f2",
   "metadata": {},
   "outputs": [
    {
     "name": "stderr",
     "output_type": "stream",
     "text": [
      "C:\\Users\\ishaa\\AppData\\Local\\Temp\\ipykernel_16928\\1603069342.py:7: LangChainDeprecationWarning: The class `HuggingFaceEmbeddings` was deprecated in LangChain 0.2.2 and will be removed in 1.0. An updated version of the class exists in the :class:`~langchain-huggingface package and should be used instead. To use it run `pip install -U :class:`~langchain-huggingface` and import as `from :class:`~langchain_huggingface import HuggingFaceEmbeddings``.\n",
      "  embeddings = HuggingFaceEmbeddings(\n"
     ]
    },
    {
     "name": "stdout",
     "output_type": "stream",
     "text": [
      "Embedding model loaded From Huggingface\n"
     ]
    }
   ],
   "source": [
    "from langchain.embeddings import HuggingFaceEmbeddings\n",
    "\n",
    "model_name = \"sentence-transformers/all-mpnet-base-v2\"\n",
    "model_kwargs = {'device': 'cpu'} \n",
    "encode_kwargs = {'normalize_embeddings': False}\n",
    "\n",
    "embeddings = HuggingFaceEmbeddings(\n",
    "    model_name=model_name,\n",
    "    model_kwargs=model_kwargs,\n",
    "    encode_kwargs=encode_kwargs\n",
    ")\n",
    "\n",
    "print(\"Embedding model loaded From Huggingface\")"
   ]
  },
  {
   "cell_type": "code",
   "execution_count": 6,
   "id": "bd56951b",
   "metadata": {},
   "outputs": [
    {
     "name": "stdout",
     "output_type": "stream",
     "text": [
      "The Embeddings have been made @ c:\\Users\\ishaa\\OneDrive\\Desktop\\AgenticAi\\Agentic-Ai\\Udmy\\Project-Synaptic\\faiss_index\n"
     ]
    }
   ],
   "source": [
    "#The embeddings and the vectpor Db part \n",
    "db = FAISS.from_documents(chunks,embeddings)\n",
    "db.save_local(\"faiss_index\")\n",
    "current_directory = os.getcwd()\n",
    "index_path = os.path.join(current_directory, \"faiss_index\")\n",
    "print(f\"The Embeddings have been made @ {index_path}\")"
   ]
  },
  {
   "cell_type": "code",
   "execution_count": 7,
   "id": "d7a7ccc3",
   "metadata": {},
   "outputs": [
    {
     "name": "stdout",
     "output_type": "stream",
     "text": [
      "Databade Loaded\n"
     ]
    }
   ],
   "source": [
    "from langchain.vectorstores import FAISS\n",
    "from langchain.embeddings import HuggingFaceEmbeddings\n",
    "\n",
    "embeddings = HuggingFaceEmbeddings(model_name=\"sentence-transformers/all-mpnet-base-v2\")\n",
    "\n",
    "db = FAISS.load_local(\"faiss_index\", embeddings, allow_dangerous_deserialization=True)\n",
    "\n",
    "print(\"Databade Loaded\")"
   ]
  },
  {
   "cell_type": "code",
   "execution_count": 8,
   "id": "4c385178",
   "metadata": {},
   "outputs": [
    {
     "name": "stdout",
     "output_type": "stream",
     "text": [
      "retriever created : \n",
      " tags=['FAISS', 'HuggingFaceEmbeddings'] vectorstore=<langchain_community.vectorstores.faiss.FAISS object at 0x00000207ED384050> search_kwargs={}\n"
     ]
    }
   ],
   "source": [
    "#Creating The context retriever \n",
    "\n",
    "retriever = db.as_retriever()\n",
    "print(f\"retriever created : \\n {retriever}\")"
   ]
  },
  {
   "cell_type": "code",
   "execution_count": 9,
   "id": "48c6cbd8",
   "metadata": {},
   "outputs": [],
   "source": [
    "# Lets make The user choose whatever model he/she wantes to use: \n",
    "#function will be Createsd to let  User Choose between \n",
    "from langchain_groq import ChatGroq\n",
    "from langchain_google_genai import GoogleGenerativeAI\n",
    "from langchain_perplexity import ChatPerplexity \n",
    "from langchain_ollama import ChatOllama"
   ]
  },
  {
   "cell_type": "code",
   "execution_count": null,
   "id": "6c2ab75c",
   "metadata": {},
   "outputs": [
    {
     "ename": "SyntaxError",
     "evalue": "incomplete input (638118774.py, line 4)",
     "output_type": "error",
     "traceback": [
      "  \u001b[36mCell\u001b[39m\u001b[36m \u001b[39m\u001b[32mIn[11]\u001b[39m\u001b[32m, line 4\u001b[39m\n\u001b[31m    \u001b[39m\n    ^\n\u001b[31mSyntaxError\u001b[39m\u001b[31m:\u001b[39m incomplete input\n"
     ]
    }
   ],
   "source": [
    "user_choice = input(\"enter the model: Perplexity , Gemini , groq \")\n",
    "user_choice.lower()\n",
    "if user_choice == \"perplexity\":\n",
    "    \n"
   ]
  }
 ],
 "metadata": {
  "kernelspec": {
   "display_name": "Python 3",
   "language": "python",
   "name": "python3"
  },
  "language_info": {
   "codemirror_mode": {
    "name": "ipython",
    "version": 3
   },
   "file_extension": ".py",
   "mimetype": "text/x-python",
   "name": "python",
   "nbconvert_exporter": "python",
   "pygments_lexer": "ipython3",
   "version": "3.11.9"
  }
 },
 "nbformat": 4,
 "nbformat_minor": 5
}
