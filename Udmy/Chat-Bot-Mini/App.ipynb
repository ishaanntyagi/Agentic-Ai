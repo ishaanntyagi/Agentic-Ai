{
 "cells": [
  {
   "cell_type": "code",
   "execution_count": null,
   "id": "86d25eb5",
   "metadata": {},
   "outputs": [
    {
     "data": {
      "text/plain": [
       "ChatGroq(client=<groq.resources.chat.completions.Completions object at 0x000002094BA14E90>, async_client=<groq.resources.chat.completions.AsyncCompletions object at 0x000002094CB20FD0>, model_name='qwen/qwen3-32b', model_kwargs={}, groq_api_key=SecretStr('**********'))"
      ]
     },
     "execution_count": 1,
     "metadata": {},
     "output_type": "execute_result"
    }
   ],
   "source": [
    "groq_key = \"\" #key has already been Altered.\n",
    "\n",
    "from langchain_groq import ChatGroq\n",
    "model = ChatGroq(model=\"qwen/qwen3-32b\",\n",
    "                 groq_api_key=groq_key)\n",
    "\n",
    "model"
   ]
  },
  {
   "cell_type": "code",
   "execution_count": 4,
   "id": "6779401d",
   "metadata": {},
   "outputs": [
    {
     "data": {
      "text/plain": [
       "AIMessage(content='<think>\\nOkay, the user is Ishaan, a student learning LangChain right now. Let me think about how to respond. First, I should welcome him and acknowledge his effort. LangChain can be a bit challenging at first, so it\\'s good to encourage him.\\n\\nHe might be looking for guidance or resources. Maybe he\\'s stuck on a specific part? I should ask if he has any specific questions or areas he wants help with. Since he mentioned he\\'s a student, perhaps he\\'s working on a project or assignment related to LangChain.\\n\\nI should mention the key components of LangChain, like the core libraries, LLMs, prompts, memory, and agents. That way, he knows what areas to focus on. Also, suggesting practical steps like building small projects or experimenting with examples could be helpful.\\n\\nI need to make sure my response is friendly and supportive. Maybe add some emojis to keep the tone positive. Also, offer to help with any specific issues he encounters. Let me put this all together in a clear and concise way without overwhelming him.\\n</think>\\n\\nHello Ishaan! 😊 Nice to meet you! It\\'s awesome that you\\'re diving into **LangChain**—it\\'s a powerful framework for building AI applications. Let me know if you have any specific questions, and I’ll do my best to help. Here’s a quick breakdown to get you started:\\n\\n---\\n\\n### 🔑 **Key Concepts in LangChain**  \\n1. **LLMs** (Large Language Models):  \\n   - Use models like GPT, Llama, or others via `langchain.llms` or `langchain.chat_models`.\\n\\n2. **Prompts**:  \\n   - Templates for generating inputs for LLMs (e.g., `PromptTemplate`, `FewShotPromptTemplate`).\\n\\n3. **Memory**:  \\n   - Store and reuse information across interactions (e.g., `ConversationBufferMemory` for chat history).\\n\\n4. **Agents**:  \\n   - Autonomously decide actions (e.g., `LLMSingleActionAgent` for tasks like web searches or APIs).\\n\\n5. **Indexes** (e.g., VectorStores):  \\n   - For RAG (Retrieval-Augmented Generation) workflows using `FAISS`, `Chroma`, or `Pinecone`.\\n\\n6. **Tools & Chains**:  \\n   - Combine LLMs with APIs, databases, or custom functions (e.g., `WikipediaAPIWrapper`, `SQLDatabase`).\\n\\n---\\n\\n### 🛠️ **Tips for Learning**  \\n- **Start small**: Build a basic chatbot or a Q&A app with a local model (e.g., Llama).  \\n- **Use LangChain’s docs**: [https://python.langchain.com](https://python.langchain.com)  \\n- **Experiment with examples**: Check out the [LangChain GitHub](https://github.com/langchain-ai/langchain) for code snippets.  \\n- **Visualize workflows**: Use `print(chain.run(\"your input\"))` to debug and see what’s happening.  \\n- **Combine with other tools**: Try integrating with Hugging Face, Pinecone, or your own APIs.  \\n\\n---\\n\\n### 🤔 **Common Pitfalls**  \\n- **Prompt design**: Poor prompts can lead to erratic outputs. Use few-shots or structured templates (`PromptTemplate`).  \\n- **Memory management**: Forgetting to reset memory when starting a new conversation.  \\n- **LLM errors**: Handle token limits, rate limits, or invalid inputs gracefully.  \\n\\n---\\n\\nWhat are you working on right now? Are you stuck on a specific part of LangChain? Let me know, and I can walk you through it step by step! 🚀', additional_kwargs={}, response_metadata={'token_usage': {'completion_tokens': 755, 'prompt_tokens': 25, 'total_tokens': 780, 'completion_time': 3.380682452, 'prompt_time': 0.657180303, 'queue_time': 4.139199612, 'total_time': 4.037862755}, 'model_name': 'qwen/qwen3-32b', 'system_fingerprint': 'fp_5cf921caa2', 'service_tier': 'on_demand', 'finish_reason': 'stop', 'logprobs': None}, id='run--10868f39-0916-4eb9-a1b4-d7da71f8e263-0', usage_metadata={'input_tokens': 25, 'output_tokens': 755, 'total_tokens': 780})"
      ]
     },
     "execution_count": 4,
     "metadata": {},
     "output_type": "execute_result"
    }
   ],
   "source": [
    "from langchain_core.messages import HumanMessage\n",
    "model.invoke([HumanMessage(content=\"Hy My Name is ishaan, Im A Student and Learning LangChain These Days\")])"
   ]
  },
  {
   "cell_type": "code",
   "execution_count": 5,
   "id": "113017c3",
   "metadata": {},
   "outputs": [
    {
     "data": {
      "text/plain": [
       "AIMessage(content='<think>\\nOkay, the user asked, \"What is My name?\" Let me check the conversation history. The user introduced themselves as Ishaan at the beginning. I should confirm that they\\'re referring to their own name here. Since they used \"My\" with a capital M, it\\'s likely a typo or just a way they wrote it. I need to respond in a friendly and helpful manner, reinforcing their name to build rapport.\\n\\nI should make sure to acknowledge their name correctly and maybe add an emoji to keep the tone positive. Also, since they mentioned being a beginner with LangChain and LangGraphs, I can offer further help if needed. Let me structure the response to be clear and welcoming.\\n</think>\\n\\nYour name is **Ishaan**! 😊 How can I assist you today with LangChain or LangGraphs? Feel free to ask anything—no question is too basic!', additional_kwargs={}, response_metadata={'token_usage': {'completion_tokens': 183, 'prompt_tokens': 64, 'total_tokens': 247, 'completion_time': 0.428953118, 'prompt_time': 0.012877112, 'queue_time': 0.047163098, 'total_time': 0.44183023}, 'model_name': 'qwen/qwen3-32b', 'system_fingerprint': 'fp_5cf921caa2', 'service_tier': 'on_demand', 'finish_reason': 'stop', 'logprobs': None}, id='run--ad2e10a3-044d-42a7-9d4c-d0d3cfd9fd38-0', usage_metadata={'input_tokens': 64, 'output_tokens': 183, 'total_tokens': 247})"
      ]
     },
     "execution_count": 5,
     "metadata": {},
     "output_type": "execute_result"
    }
   ],
   "source": [
    "from langchain_core.messages import AIMessage\n",
    "model.invoke(\n",
    "\n",
    "    [\n",
    "        HumanMessage(content=\"Hy My Name is ishaan, am a beginner to langchain and Langgraphs\"),\n",
    "        AIMessage(content=\"You Are ishaan and your a Beginner to Langchain and LangGraph , may i help you with anything?\"),\n",
    "        HumanMessage(content=\"What is My name ? \")\n",
    "    ]\n",
    "\n",
    ")"
   ]
  },
  {
   "cell_type": "code",
   "execution_count": 8,
   "id": "e812fbcf",
   "metadata": {},
   "outputs": [],
   "source": [
    "from langchain_community.chat_message_histories import ChatMessageHistory\n",
    "from langchain_core.chat_history import BaseChatMessageHistory\n",
    "from langchain_core.runnables import RunnableWithMessageHistory\n",
    "from langchain_community.llms import Ollama\n",
    "\n"
   ]
  }
 ],
 "metadata": {
  "kernelspec": {
   "display_name": "Python 3",
   "language": "python",
   "name": "python3"
  },
  "language_info": {
   "codemirror_mode": {
    "name": "ipython",
    "version": 3
   },
   "file_extension": ".py",
   "mimetype": "text/x-python",
   "name": "python",
   "nbconvert_exporter": "python",
   "pygments_lexer": "ipython3",
   "version": "3.11.9"
  }
 },
 "nbformat": 4,
 "nbformat_minor": 5
}
