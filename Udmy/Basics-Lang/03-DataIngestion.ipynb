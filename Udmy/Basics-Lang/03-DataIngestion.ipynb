{
 "cells": [
  {
   "cell_type": "code",
   "execution_count": 5,
   "id": "0b2ae7ce",
   "metadata": {},
   "outputs": [],
   "source": [
    "from langchain_community.document_loaders import PyPDFLoader\n"
   ]
  },
  {
   "cell_type": "code",
   "execution_count": 9,
   "id": "bd970698",
   "metadata": {},
   "outputs": [
    {
     "name": "stdout",
     "output_type": "stream",
     "text": [
      "[Document(metadata={'producer': 'Microsoft® Word 2021', 'creator': 'Microsoft® Word 2021', 'creationdate': '2025-07-30T16:23:25+05:30', 'author': 'Sehaj Bajaj', 'moddate': '2025-07-30T16:23:25+05:30', 'source': 'C:\\\\Users\\\\ishaa\\\\Downloads\\\\ISHAAN_RESUME.pdf', 'total_pages': 1, 'page': 0, 'page_label': '1'}, page_content='ISHAAN NARAYAN \\n \\n+919950327566| ishn.work@icloud.com  | LinkedIn: https://www.linkedin.com/in/ishaan-narayan-620560256/  \\nGitHub: https://github.com/ishaanntyagi |  Leetcode : https://leetcode.com/u/ishaanntyagi/ \\n \\nCAREER OBJECTIVE \\nB.Tech CSE undergraduate with skills in problem-solving and experience in C++, and full-stack development. \\n  \\nExamination   Institute                           Year \\nB. Tech CSE  UPES, Dehradun.  2022- 2026 \\nSenior School, CBSE  DPS Rajnagar Extension , Ghaziabad . 2021-2022 \\nSecondary School, CBSE  DPS Rajnagar Extension , Ghaziabad . 2019-2020  \\n    \\nSKILLS \\n• Languages: C/C++, Python . \\n• Full Stack Development: JavaScript  , AngularJs  ,Node JS, HTML, CSS.  \\n• Python: ML, DL , ComputerVision , Agentic -Ai , Gen -Ai.  \\n• Database: SQL.  \\n• Additional Skills: Very Basic DevOps practices \\n• Operating System: Windows, Linux.  \\n• Soft Skills: Creativity, Time management, Problem Solving, Team management.  \\n \\nINTERNSHIPS \\nAI/ML Intern - Adeptia                                                                                                      May 202 5 - July  202 5                                                                                                                                                                                                                                                       \\n• Buil t ML & DL , NLP models using Scikit -learn and TensorFlow and HuggingFace.  \\n• Work ed  on  ComputerVision and GenAI features using LLMs,  and Transformers , Along with Agentic Ai and \\nGenerative -Ai . \\n• Worked on Agentic -Ai and RAG based ChatBot with Memory.  \\nSocial Intern  - Sa aras Foundation                                                                                             May 2023 - July  2023                                                                                                                        \\n•Helped in community outreach programs, help ed  organize awareness drives on  healthcare. Collaborated with \\nlocal groups to support underprivileged people. Helped underprivileged people access government schemes.  \\n \\nPROJECTS \\nMedical Image Captioning | Deep Learning, KAN, ReactJs                                                        Jan 2025 - May 2025 \\n• Built a deep learning pipeline for brain tumor detection and medical caption generation using KAN with ViT. \\n• ReactJS front-end for patient authentication & MRI upload. \\n• Connected front-end to PyTorch backend via Flask API for real-time inference. \\n• Pipeline: upload → preprocess → ViT → classify → caption → display. \\n• Link: https://github.com/ishaanntyagi/Medical-Image-Captioning \\nAgentic AI-Powered SDLC Automation | LangChain , LangGraph                                                                      July 2025                                                            \\n•  Created a  SDLC automation tool using agentic Generative AI ,Python, and LangGraph, with each SDLC phase as a node \\n• Each node is like a checkpoint ,it guides users through stages such as collecting requirements, designing the system, \\nwriting code, and explaining how the code works ,using LangChain to connect everything.  \\n•  Used Ollama’s local API with Python to send simple requests and get AI-generated code and explanations for my project. \\n•  Link: https://github.com/ishaanntyagi/LangGraph-SDLC-Automation.git \\nDiscord Clone | Web Development, HTML, CSS, JS, NodeJs                                                        March 2024 - May 2024 \\n•Developed a web-based application that replicates key features of Discord Website, including user authentication, using HTML, \\nCSS, and JavaScript. \\n• Enhancing User Experience by integrating form validation through AngularJS, and also applied error handling. \\n• Implemented Backend Operations with Node.js and MySQL for data storage, optimizing data management. \\n  • Link: https://github.com/ishaanntyagi/DiscordClone \\n \\nCERTIFICATES \\n• Mastering Generative AI and ChatGpt by GeeksForGeeks                                                                                            July  2025                                     \\n•GenAi Foundations by UpGrad and Microsoft                                                                                                                    July 2025  \\n•DevOps 40 Hour BootCamp by INT Israel                                                                                                                           Sept 2024')]\n"
     ]
    }
   ],
   "source": [
    "loader = PyPDFLoader(r\"C:\\Users\\ishaa\\Downloads\\ISHAAN_RESUME.pdf\")\n",
    "text = loader.load()\n",
    "print(text)"
   ]
  },
  {
   "cell_type": "code",
   "execution_count": 16,
   "id": "2c805b7d",
   "metadata": {},
   "outputs": [],
   "source": [
    "#Web based loder \n",
    "from langchain_community.document_loaders import WebBaseLoader\n",
    "import bs4\n",
    "loader=WebBaseLoader(web_paths=(\"https://openai.com/index/introducing-gpt-oss/\"),\n",
    "                     bs_kwargs=dict(parse_only=bs4.SoupStrainer(\n",
    "                         class_=(\"post-title\",\"post-content\",\"post-header\")\n",
    "                     ))\n",
    "                     )\n"
   ]
  },
  {
   "cell_type": "code",
   "execution_count": null,
   "id": "93f07ff1",
   "metadata": {},
   "outputs": [],
   "source": []
  }
 ],
 "metadata": {
  "kernelspec": {
   "display_name": "Python 3",
   "language": "python",
   "name": "python3"
  },
  "language_info": {
   "codemirror_mode": {
    "name": "ipython",
    "version": 3
   },
   "file_extension": ".py",
   "mimetype": "text/x-python",
   "name": "python",
   "nbconvert_exporter": "python",
   "pygments_lexer": "ipython3",
   "version": "3.11.9"
  }
 },
 "nbformat": 4,
 "nbformat_minor": 5
}
