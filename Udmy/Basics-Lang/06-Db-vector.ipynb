{
 "cells": [
  {
   "cell_type": "code",
   "execution_count": 3,
   "id": "054bf8ba",
   "metadata": {},
   "outputs": [],
   "source": [
    "from langchain_community.vectorstores import FAISS\n",
    "from langchain_community.embeddings import HuggingFaceBgeEmbeddings\n",
    "from langchain.text_splitter import RecursiveCharacterTextSplitter\n"
   ]
  },
  {
   "cell_type": "code",
   "execution_count": null,
   "id": "24c3ffc8",
   "metadata": {},
   "outputs": [],
   "source": [
    "documents = [ \" Ai Is the New brain ,Ai can do Many things in HealthCare and Ai can work on Detecting  Human related Diseases and Symptoms\"]\n",
    "text_split = RecursiveCharacterTextSplitter(chunk_size = 3, chunk_overlap = 1)\n",
    "new_doc = text_split.split_text(documents)\n"
   ]
  }
 ],
 "metadata": {
  "kernelspec": {
   "display_name": "Python 3",
   "language": "python",
   "name": "python3"
  },
  "language_info": {
   "codemirror_mode": {
    "name": "ipython",
    "version": 3
   },
   "file_extension": ".py",
   "mimetype": "text/x-python",
   "name": "python",
   "nbconvert_exporter": "python",
   "pygments_lexer": "ipython3",
   "version": "3.11.9"
  }
 },
 "nbformat": 4,
 "nbformat_minor": 5
}
