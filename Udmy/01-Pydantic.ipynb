{
 "cells": [
  {
   "cell_type": "code",
   "execution_count": 14,
   "id": "8d67f933",
   "metadata": {},
   "outputs": [],
   "source": [
    "from pydantic import BaseModel"
   ]
  },
  {
   "cell_type": "code",
   "execution_count": 15,
   "id": "0fcf4cfb",
   "metadata": {},
   "outputs": [
    {
     "name": "stdout",
     "output_type": "stream",
     "text": [
      "name='Ishaan' age=21 city='Noida'\n"
     ]
    }
   ],
   "source": [
    "class Person(BaseModel):\n",
    "    name:str\n",
    "    age:int\n",
    "    city:str\n",
    "\n",
    "person = Person(name=\"Ishaan\",age=21,city =\"Noida\") \n",
    "print(person)\n"
   ]
  },
  {
   "cell_type": "markdown",
   "id": "e167a575",
   "metadata": {},
   "source": [
    "### Validation took Place As we used the base model of pydantic, Error Was Expected "
   ]
  },
  {
   "cell_type": "code",
   "execution_count": 16,
   "id": "81702a00",
   "metadata": {},
   "outputs": [],
   "source": [
    "# person1 = Person(name=\"Ishaan\",age=21,city =123) \n",
    "# print(person1)"
   ]
  },
  {
   "cell_type": "code",
   "execution_count": null,
   "id": "b94179f5",
   "metadata": {},
   "outputs": [],
   "source": []
  },
  {
   "cell_type": "code",
   "execution_count": null,
   "id": "a5b8fa9e",
   "metadata": {},
   "outputs": [],
   "source": []
  }
 ],
 "metadata": {
  "kernelspec": {
   "display_name": "Python 3",
   "language": "python",
   "name": "python3"
  },
  "language_info": {
   "codemirror_mode": {
    "name": "ipython",
    "version": 3
   },
   "file_extension": ".py",
   "mimetype": "text/x-python",
   "name": "python",
   "nbconvert_exporter": "python",
   "pygments_lexer": "ipython3",
   "version": "3.11.9"
  }
 },
 "nbformat": 4,
 "nbformat_minor": 5
}
