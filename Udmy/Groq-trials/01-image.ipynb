{
 "cells": [
  {
   "cell_type": "code",
   "execution_count": 5,
   "id": "9a414832",
   "metadata": {},
   "outputs": [
    {
     "data": {
      "text/plain": [
       "True"
      ]
     },
     "execution_count": 5,
     "metadata": {},
     "output_type": "execute_result"
    }
   ],
   "source": [
    "import os\n",
    "import base64\n",
    "from dotenv import load_dotenv\n",
    "from langchain_groq import ChatGroq\n",
    "from langchain_core.messages import HumanMessage\n",
    "\n",
    "# Load the GROQ_API_KEY from your .env file\n",
    "load_dotenv()"
   ]
  },
  {
   "cell_type": "code",
   "execution_count": 6,
   "id": "ea27fab9",
   "metadata": {},
   "outputs": [],
   "source": [
    "import os\n",
    "from dotenv import load_dotenv\n",
    "\n",
    "load_dotenv()\n",
    "openai_api_key    = os.getenv(\"OPENAI_API_KEY\")\n",
    "gemini_api_key    = os.getenv(\"GEMINI_API_KEY\")\n",
    "groq_api_key      = os.getenv(\"GROQ_API_KEY\")\n",
    "langchain_api_key = os.getenv(\"LANGCHAIN_API_KEY\")"
   ]
  },
  {
   "cell_type": "code",
   "execution_count": 7,
   "id": "759d1811",
   "metadata": {},
   "outputs": [],
   "source": [
    "# Initialize the ChatGroq Model with the vision model name\n",
    "llm = ChatGroq(model_name=\"meta-llama/llama-4-scout-17b-16e-instruct\")\n"
   ]
  },
  {
   "cell_type": "code",
   "execution_count": 8,
   "id": "1fe7f030",
   "metadata": {},
   "outputs": [
    {
     "name": "stdout",
     "output_type": "stream",
     "text": [
      "--- Groq's Response ---\n",
      "The image provided appears to be a computed tomography (CT) scan of a human brain. The CT scan shows a large, dark area in the left hemisphere of the brain, which is indicative of a cystic structure or a low-density lesion. Surrounding this area, there is a significant amount of edema (swelling) and possibly some mass effect, as evidenced by the shift of the midline structures to the right side. The presence of a large, well-defined cavity or cyst within the brain tissue is suggestive of a type of brain tumor known as a colloid cyst or, more likely given the size and location, a cystic component of a brain tumor.\n",
      "\n",
      "Given the characteristics of the lesion, including its cystic appearance and the surrounding edema and mass effect, it could represent a colloid cyst, a craniopharyngioma, or more commonly, a cystic glioma. However, without contrast enhancement or more specific imaging details (like MRI), pinpointing the exact nature of the tumor is challenging.\n",
      "\n",
      "### Detailed Explanation of the Tumor:\n",
      "\n",
      "**1. General Characteristics:**\n",
      "   - **Location:** The tumor appears to be located in the cerebral hemisphere, likely in the frontal or temporal lobe given its position.\n",
      "   - **Appearance:** It has a large cystic component with a well-defined border, suggesting it could be a tumor with cystic degeneration.\n",
      "\n",
      "**2. Possible Types:**\n",
      "   - **Colloid Cyst:** Typically found in the third ventricle, colloid cysts are benign and contain a mucinous material. They are usually small and not commonly associated with such significant surrounding edema unless they cause obstructive hydrocephalus.\n",
      "   - **Craniopharyngioma:** These are benign tumors derived from pituitary gland embryonic tissue. They can have cystic components and are usually found near the sella turcica and the third ventricle. They can cause significant mass effect and are more common in children.\n",
      "   - **Cystic Glioma (e.g., Cystic Astrocytoma):** Gliomas are tumors that arise from the brain's glial tissue. They can be benign or malignant. Astrocytomas, a type of glioma, can have cystic components and are graded based on their aggressiveness (from Grade I pilocytic astrocytoma to Grade IV glioblastoma). A cystic astrocytoma could present with a large cyst and surrounding edema.\n",
      "\n",
      "**3. Clinical Implications:**\n",
      "   - Symptoms would depend on the tumor's location but could include headaches, seizures, neurological deficits (e.g., weakness, speech difficulties), and cognitive changes.\n",
      "   - Treatment varies based on the tumor type, location, and grade but often includes surgical resection, radiation therapy, and chemotherapy.\n",
      "\n",
      "**4. Diagnostic Approach:**\n",
      "   - Further imaging with MRI, possibly with contrast, would help delineate the tumor's extent and characteristics.\n",
      "   - Histopathological examination after biopsy or surgical resection would provide a definitive diagnosis.\n",
      "\n",
      "This explanation provides a general overview based on the appearance of the CT scan image. A precise diagnosis would require more detailed imaging and clinical information.\n",
      "-----------------------\n"
     ]
    }
   ],
   "source": [
    "image_path = r\"C:\\Users\\ishaa\\OneDrive\\Desktop\\Projects\\Medical_Image_Captioning\\Testing_SampleImages\\G\\Te-gl_0072.jpg\"\n",
    "\n",
    "# Read the image file in binary mode and encode it in base64\n",
    "with open(image_path, \"rb\") as image_file:\n",
    "    image_base64 = base64.b64encode(image_file.read()).decode(\"utf-8\")\n",
    "\n",
    "# Get the correct MIME type (e.g., 'image/jpeg', 'image/png')\n",
    "# This is a robust way to handle different image types\n",
    "image_type = image_path.split('.')[-1]\n",
    "image_data_uri = f\"data:image/{image_type};base64,{image_base64}\"\n",
    "\n",
    "\n",
    "\n",
    "\n",
    "# Create the message with both the text prompt and the image\n",
    "message = HumanMessage(\n",
    "    content=[\n",
    "        {\n",
    "            \"type\": \"text\",\n",
    "            \"text\": \"What is in this image? Describe it in detail also What is this kind of Tumor , Explain In detail? \",\n",
    "        },\n",
    "        {\n",
    "            \"type\": \"image_url\",\n",
    "            \"image_url\": {\"url\": image_data_uri},\n",
    "        },\n",
    "    ]\n",
    ")\n",
    "\n",
    "# Send the request to Groq and get the response\n",
    "api_response = llm.invoke([message])\n",
    "\n",
    "# Print the model's description of the image\n",
    "print(\"--- Groq's Response ---\")\n",
    "print(api_response.content)\n",
    "print(\"-----------------------\")"
   ]
  }
 ],
 "metadata": {
  "kernelspec": {
   "display_name": "Python 3",
   "language": "python",
   "name": "python3"
  },
  "language_info": {
   "codemirror_mode": {
    "name": "ipython",
    "version": 3
   },
   "file_extension": ".py",
   "mimetype": "text/x-python",
   "name": "python",
   "nbconvert_exporter": "python",
   "pygments_lexer": "ipython3",
   "version": "3.11.9"
  }
 },
 "nbformat": 4,
 "nbformat_minor": 5
}
