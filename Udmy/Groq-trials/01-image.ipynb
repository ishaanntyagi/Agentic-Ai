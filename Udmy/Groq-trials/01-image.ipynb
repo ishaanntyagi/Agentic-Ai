{
 "cells": [
  {
   "cell_type": "code",
   "execution_count": 1,
   "id": "9a414832",
   "metadata": {},
   "outputs": [
    {
     "data": {
      "text/plain": [
       "True"
      ]
     },
     "execution_count": 1,
     "metadata": {},
     "output_type": "execute_result"
    }
   ],
   "source": [
    "import os\n",
    "import base64\n",
    "from dotenv import load_dotenv\n",
    "from langchain_groq import ChatGroq\n",
    "from langchain_core.messages import HumanMessage\n",
    "\n",
    "# Load the GROQ_API_KEY from your .env file\n",
    "load_dotenv()"
   ]
  },
  {
   "cell_type": "code",
   "execution_count": 3,
   "id": "ea27fab9",
   "metadata": {},
   "outputs": [],
   "source": [
    "import os\n",
    "from dotenv import load_dotenv\n",
    "\n",
    "load_dotenv()\n",
    "openai_api_key    = os.getenv(\"OPENAI_API_KEY\")\n",
    "gemini_api_key    = os.getenv(\"GEMINI_API_KEY\")\n",
    "groq_api_key      = os.getenv(\"GROQ_API_KEY\")\n",
    "langchain_api_key = os.getenv(\"LANGCHAIN_API_KEY\")"
   ]
  },
  {
   "cell_type": "code",
   "execution_count": 4,
   "id": "759d1811",
   "metadata": {},
   "outputs": [],
   "source": [
    "# Initialize the ChatGroq Model with the vision model name\n",
    "llm = ChatGroq(model_name=\"meta-llama/llama-4-scout-17b-16e-instruct\")\n"
   ]
  },
  {
   "cell_type": "code",
   "execution_count": 5,
   "id": "1fe7f030",
   "metadata": {},
   "outputs": [
    {
     "name": "stdout",
     "output_type": "stream",
     "text": [
      "--- Groq's Response ---\n",
      "The image presents a screenshot of an internet speed test, showcasing various metrics and statistics related to the user's connection. The background is predominantly black, with white text and accents.\n",
      "\n",
      "* **Top Section:**\n",
      "\t+ A menu bar at the top features options for English, Apps, Learn, Data, and About.\n",
      "\t+ A logo in the top-left corner reads \"EST\" in white text.\n",
      "* **Speed Test Metrics:**\n",
      "\t+ **Download Speed:** 304.57 Mbps\n",
      "\t+ **Upload Speed:** Not explicitly stated, but represented by a green arrow icon\n",
      "\t+ **Ping:** 21 ms (milliseconds)\n",
      "* **Speedometer:**\n",
      "\t+ A circular speedometer displays the download speed, with a pink-to-purple gradient indicating the range from 0 to 1000 Mbps.\n",
      "\t+ The current download speed of 308.01 Mbps is marked on the speedometer.\n",
      "* **Network Information:**\n",
      "\t+ **IP Address:** 223.233.72.57\n",
      "\t+ **Network Provider:** Airtel\n",
      "\t+ **Network Name:** Protoact Digital Network\n",
      "\t+ **Location:** Noida\n",
      "* **Call-to-Actions:**\n",
      "\t+ A button to create an account\n",
      "\t+ A button to view results history\n",
      "\n",
      "In summary, the image provides a comprehensive overview of the user's internet speed test, including download and upload speeds, ping, and network information. The speedometer visually represents the download speed, while the network details offer context about the user's connection.\n",
      "-----------------------\n"
     ]
    }
   ],
   "source": [
    "image_path = r\"C:\\Users\\ishaa\\OneDrive\\Pictures\\Screenshots 1\\Screenshot 2025-08-18 185544.png\"\n",
    "\n",
    "# Read the image file in binary mode and encode it in base64\n",
    "with open(image_path, \"rb\") as image_file:\n",
    "    image_base64 = base64.b64encode(image_file.read()).decode(\"utf-8\")\n",
    "\n",
    "# Get the correct MIME type (e.g., 'image/jpeg', 'image/png')\n",
    "# This is a robust way to handle different image types\n",
    "image_type = image_path.split('.')[-1]\n",
    "image_data_uri = f\"data:image/{image_type};base64,{image_base64}\"\n",
    "\n",
    "\n",
    "\n",
    "\n",
    "# Create the message with both the text prompt and the image\n",
    "message = HumanMessage(\n",
    "    content=[\n",
    "        {\n",
    "            \"type\": \"text\",\n",
    "            \"text\": \"What is in this image? Describe it in detail.\",\n",
    "        },\n",
    "        {\n",
    "            \"type\": \"image_url\",\n",
    "            \"image_url\": {\"url\": image_data_uri},\n",
    "        },\n",
    "    ]\n",
    ")\n",
    "\n",
    "# Send the request to Groq and get the response\n",
    "api_response = llm.invoke([message])\n",
    "\n",
    "# Print the model's description of the image\n",
    "print(\"--- Groq's Response ---\")\n",
    "print(api_response.content)\n",
    "print(\"-----------------------\")"
   ]
  }
 ],
 "metadata": {
  "kernelspec": {
   "display_name": "Python 3",
   "language": "python",
   "name": "python3"
  },
  "language_info": {
   "codemirror_mode": {
    "name": "ipython",
    "version": 3
   },
   "file_extension": ".py",
   "mimetype": "text/x-python",
   "name": "python",
   "nbconvert_exporter": "python",
   "pygments_lexer": "ipython3",
   "version": "3.11.9"
  }
 },
 "nbformat": 4,
 "nbformat_minor": 5
}
