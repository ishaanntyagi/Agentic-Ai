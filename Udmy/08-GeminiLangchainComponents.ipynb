{
 "cells": [
  {
   "cell_type": "code",
   "execution_count": 1,
   "id": "191ebf74",
   "metadata": {},
   "outputs": [],
   "source": [
    "from langchain_google_genai import ChatGoogleGenerativeAI\n",
    "from langchain_core.prompts import ChatPromptTemplate\n",
    "from langchain_core.output_parsers import StrOutputParser\n",
    "\n"
   ]
  },
  {
   "cell_type": "code",
   "execution_count": 2,
   "id": "f978ed88",
   "metadata": {},
   "outputs": [],
   "source": [
    "# Set up Gemini LLM (Google AI)\n",
    "gemini_llm = ChatGoogleGenerativeAI(\n",
    "    api_key=\"AIzaSyCg_axGIeKfSo\",\n",
    "    model=\"gemini-2.0-flash\",      # or \"gemini-1.5-pro\"\n",
    "    temperature=0.3,\n",
    "    max_output_tokens=512\n",
    ")"
   ]
  },
  {
   "cell_type": "code",
   "execution_count": 3,
   "id": "11c92cb4",
   "metadata": {},
   "outputs": [],
   "source": [
    "prompt = ChatPromptTemplate.from_messages([\n",
    "    (\"system\", \"You are an expert AI Engineer. Answer the user's question.\"),\n",
    "    (\"user\", \"{input}\")\n",
    "])\n"
   ]
  },
  {
   "cell_type": "code",
   "execution_count": null,
   "id": "931bffc4",
   "metadata": {},
   "outputs": [
    {
     "name": "stdout",
     "output_type": "stream",
     "text": [
      "Okay, let's break down generative AI.\n",
      "\n",
      "**What is Generative AI?**\n",
      "\n",
      "Generative AI refers to a category of artificial intelligence algorithms that can create new content.  Instead of simply analyzing or classifying existing data, generative AI models learn the underlying patterns and structures within a dataset and then use that knowledge to generate entirely new, original content that resembles the training data.\n",
      "\n",
      "**Key Characteristics:**\n",
      "\n",
      "*   **Content Creation:** The primary function is to produce novel outputs. This could be text, images, audio, video, code, 3D models, or even molecular structures.\n",
      "*   **Learning from Data:**  Generative AI models are trained on large datasets. The more data, the better they typically become at understanding the nuances and complexities of the target content.\n",
      "*   **Pattern Recognition:** They identify and learn the underlying patterns, relationships, and distributions within the training data.\n",
      "*   **Stochasticity (Randomness):**  Generative models often incorporate a degree of randomness in their output. This allows them to produce diverse and creative results, rather than simply replicating the training data.  This randomness is controlled by parameters that can influence the style, quality, and variety of the generated content.\n",
      "*   **Unsupervised or Self-Supervised Learning:** While some generative models can be trained with labeled data, many excel at unsupervised or self-supervised learning. This means they can learn from unlabeled data, making them more versatile and applicable to a wider range of problems.\n",
      "\n",
      "**How it Works (Simplified):**\n",
      "\n",
      "1.  **Training:** The model is fed a large dataset of examples (e.g., images of cats, text from novels, musical scores).\n",
      "2.  **Learning:** The model analyzes the data and learns the underlying statistical relationships and patterns.  It essentially builds a complex internal representation of the data.\n",
      "3.  **Generation:**  The model is given a prompt or starting point (which could be as simple as \"generate an image\").  It then uses its learned knowledge to create new content that is similar to the training data but not an exact copy.\n",
      "\n",
      "**Common Types of Generative AI Models:**\n",
      "\n",
      "*   **Generative Adversarial Networks (GANs):**  GANs consist of two neural networks: a generator and a discriminator. The generator creates new content, while the discriminator tries to distinguish between real data and the generated content.  They compete against each other, leading to increasingly realistic and high-quality outputs.  GANs\n"
     ]
    }
   ],
   "source": [
    "\n",
    "chain = prompt | gemini_llm | StrOutputParser()\n",
    "\n",
    "\n",
    "response = chain.invoke({\"input\": \"What is generative AI?\"})\n",
    "print(response)"
   ]
  }
 ],
 "metadata": {
  "kernelspec": {
   "display_name": "Python 3",
   "language": "python",
   "name": "python3"
  },
  "language_info": {
   "codemirror_mode": {
    "name": "ipython",
    "version": 3
   },
   "file_extension": ".py",
   "mimetype": "text/x-python",
   "name": "python",
   "nbconvert_exporter": "python",
   "pygments_lexer": "ipython3",
   "version": "3.11.9"
  }
 },
 "nbformat": 4,
 "nbformat_minor": 5
}
