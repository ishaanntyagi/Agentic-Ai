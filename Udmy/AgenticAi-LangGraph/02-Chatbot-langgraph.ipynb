{
 "cells": [
  {
   "cell_type": "markdown",
   "id": "f6145c65",
   "metadata": {},
   "source": [
    "### A Simple ChatBot LLM based Via Langgraph \n",
    "\n"
   ]
  },
  {
   "cell_type": "code",
   "execution_count": 1,
   "id": "5f7b5488",
   "metadata": {},
   "outputs": [],
   "source": [
    "# %pip install --upgrade langgraph"
   ]
  },
  {
   "cell_type": "code",
   "execution_count": 2,
   "id": "7845cffd",
   "metadata": {},
   "outputs": [],
   "source": [
    "import langgraph\n",
    "from langgraph.graph import START , END , StateGraph\n",
    "from typing import Annotated\n",
    "from langgraph.graph.message import add_messages"
   ]
  },
  {
   "cell_type": "code",
   "execution_count": 3,
   "id": "1a943947",
   "metadata": {},
   "outputs": [],
   "source": [
    "import os\n",
    "from dotenv import load_dotenv\n",
    "\n",
    "load_dotenv()\n",
    "openai_api_key    = os.getenv(\"OPENAI_API_KEY\")\n",
    "gemini_api_key    = os.getenv(\"GEMINI_API_KEY\")\n",
    "groq_api_key      = os.getenv(\"GROQ_API_KEY\")\n",
    "langchain_api_key = os.getenv(\"LANGCHAIN_API_KEY\")"
   ]
  },
  {
   "cell_type": "code",
   "execution_count": 4,
   "id": "8b154c71",
   "metadata": {},
   "outputs": [],
   "source": [
    "from typing_extensions import TypedDict\n",
    "class State(TypedDict):\n",
    "    messages:Annotated[list,add_messages]\n",
    "    \n",
    "    "
   ]
  },
  {
   "cell_type": "code",
   "execution_count": 5,
   "id": "c5e3ad61",
   "metadata": {},
   "outputs": [],
   "source": [
    "from langchain_google_genai import ChatGoogleGenerativeAI\n",
    "from langchain_groq import ChatGroq\n",
    "from langchain_openai import ChatOpenAI\n",
    "from langchain_community.llms import Ollama\n"
   ]
  },
  {
   "cell_type": "code",
   "execution_count": 6,
   "id": "4c36c4db",
   "metadata": {},
   "outputs": [
    {
     "name": "stderr",
     "output_type": "stream",
     "text": [
      "C:\\Users\\ishaa\\AppData\\Local\\Temp\\ipykernel_22156\\3955437947.py:4: LangChainDeprecationWarning: The class `Ollama` was deprecated in LangChain 0.3.1 and will be removed in 1.0.0. An updated version of the class exists in the :class:`~langchain-ollama package and should be used instead. To use it run `pip install -U :class:`~langchain-ollama` and import as `from :class:`~langchain_ollama import OllamaLLM``.\n",
      "  llm_ollama = Ollama(model = \"llama3.2\" )\n"
     ]
    },
    {
     "data": {
      "text/plain": [
       "Ollama(model='llama3.2')"
      ]
     },
     "execution_count": 6,
     "metadata": {},
     "output_type": "execute_result"
    }
   ],
   "source": [
    "# llm_openai = ChatOpenAI(model = \"gpt-4o\", openai_api_key = openai_api_key)\n",
    "llm_gemini = ChatGoogleGenerativeAI(model = \"gemini-2.5-flash\", google_api_key = gemini_api_key)\n",
    "llm_groq   = ChatGroq(model = \"qwen/qwen3-32b\", groq_api_key = groq_api_key)\n",
    "llm_ollama = Ollama(model = \"llama3.2\" )\n",
    "\n",
    "\n",
    "llm_gemini\n",
    "llm_groq\n",
    "# llm_openai\n",
    "llm_ollama\n",
    "\n"
   ]
  },
  {
   "cell_type": "code",
   "execution_count": 8,
   "id": "935c9bca",
   "metadata": {},
   "outputs": [],
   "source": [
    "response_ollama = llm_ollama.invoke(\"What is agentic Ai ? \")\n",
    "response_gemini = llm_gemini.invoke(\"what is GenAi ? \")\n",
    "# llm_openai.invoke(\"what is langchain ? \")\n",
    "response_groq = llm_groq.invoke(\"what is Langgraph ?\")\n"
   ]
  },
  {
   "cell_type": "markdown",
   "id": "e1bba35d",
   "metadata": {},
   "source": [
    "### lets Create the Nodes Now For Super Bot functionality "
   ]
  },
  {
   "cell_type": "code",
   "execution_count": 10,
   "id": "3c7fd520",
   "metadata": {},
   "outputs": [],
   "source": [
    "def Node1_superbot(State:State):\n",
    "    response2_groq = llm_groq.invoke(\"My name is Ishaan , and i want you to remember my name\")\n",
    "    return{\"messages\": llm_ollama.invoke(State['messages'])}\n"
   ]
  },
  {
   "cell_type": "code",
   "execution_count": 13,
   "id": "9915ed1c",
   "metadata": {},
   "outputs": [
    {
     "data": {
      "text/plain": [
       "<langgraph.graph.state.StateGraph at 0x26c5faf8390>"
      ]
     },
     "execution_count": 13,
     "metadata": {},
     "output_type": "execute_result"
    }
   ],
   "source": [
    "graph = StateGraph(State)\n",
    "\n",
    "graph.add_node(\"Node1_superbot\", Node1_superbot)\n",
    "graph.add_edge(START,\"Node1_superbot\")\n",
    "graph.add_edge(\"Node1_superbot\",END)"
   ]
  },
  {
   "cell_type": "code",
   "execution_count": null,
   "id": "2839da61",
   "metadata": {},
   "outputs": [
    {
     "data": {
      "text/plain": [
       "{'messages': [HumanMessage(content='hey Do you remember me ?', additional_kwargs={}, response_metadata={}, id='be574c4e-4053-4f3a-9a29-24e2248f04ee'),\n",
       "  HumanMessage(content=\"I'm happy to chat with you, but I have to admit that I don't have personal memories or the ability to recall individual interactions. I'm a large language model, my responses are generated based on patterns and associations in the data I was trained on.\\n\\nHowever, if we start chatting, I can try to figure out who you might be by paying attention to our conversation and seeing if any common topics or interests emerge. Would you like to start a conversation and see if we can build a connection?\", additional_kwargs={}, response_metadata={}, id='cbe198e2-b790-4d99-8b97-8bb8bfb67cbb')]}"
      ]
     },
     "execution_count": 18,
     "metadata": {},
     "output_type": "execute_result"
    }
   ],
   "source": [
    "graph_builder = graph.compile()\n",
    "graph_builder.invoke({\"messages\":\"hey Do you remember me ?\"})\n",
    "\n"
   ]
  }
 ],
 "metadata": {
  "kernelspec": {
   "display_name": "Python 3",
   "language": "python",
   "name": "python3"
  },
  "language_info": {
   "codemirror_mode": {
    "name": "ipython",
    "version": 3
   },
   "file_extension": ".py",
   "mimetype": "text/x-python",
   "name": "python",
   "nbconvert_exporter": "python",
   "pygments_lexer": "ipython3",
   "version": "3.11.9"
  }
 },
 "nbformat": 4,
 "nbformat_minor": 5
}
