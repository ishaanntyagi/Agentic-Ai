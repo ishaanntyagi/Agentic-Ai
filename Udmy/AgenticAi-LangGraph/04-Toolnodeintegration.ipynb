{
 "cells": [
  {
   "cell_type": "code",
   "execution_count": 20,
   "id": "f9362c0f",
   "metadata": {},
   "outputs": [],
   "source": [
    "from langchain_core.messages import AIMessage, HumanMessage\n",
    "from pprint import pprint\n",
    "import os\n",
    "from dotenv import load_dotenv\n",
    "\n",
    "load_dotenv()\n",
    "openai_api_key    = os.getenv(\"OPENAI_API_KEY\")\n",
    "gemini_api_key    = os.getenv(\"GEMINI_API_KEY\")\n",
    "groq_api_key      = os.getenv(\"GROQ_API_KEY\")\n",
    "langchain_api_key = os.getenv(\"LANGCHAIN_API_KEY\")"
   ]
  },
  {
   "cell_type": "code",
   "execution_count": 21,
   "id": "2c2f20b4",
   "metadata": {},
   "outputs": [],
   "source": [
    "### im Considering to make a tool to Provide to to the llm so that it can now work on the basis of the Tool Defined Rather than then its own Knowledge base \n",
    "\n",
    "def tool1(a:int,b:int)-> int:\n",
    "    \"\"\" Add a and b \n",
    "    Args:\n",
    "    a ( int ) --> first Number \n",
    "    b ( int ) --> Second Number\n",
    "    You need to Add the 2 Numbers and Say (Hey ishn, i will do whatever you Say!)\n",
    "    \"\"\"\n",
    "\n",
    "    return a+b"
   ]
  },
  {
   "cell_type": "code",
   "execution_count": 22,
   "id": "30989cd5",
   "metadata": {},
   "outputs": [
    {
     "data": {
      "text/plain": [
       "ChatGroq(client=<groq.resources.chat.completions.Completions object at 0x0000023D61CBBE50>, async_client=<groq.resources.chat.completions.AsyncCompletions object at 0x0000023D61561B90>, model_name='qwen/qwen3-32b', model_kwargs={}, groq_api_key=SecretStr('**********'))"
      ]
     },
     "execution_count": 22,
     "metadata": {},
     "output_type": "execute_result"
    }
   ],
   "source": [
    "from langchain_groq import ChatGroq\n",
    "llm = ChatGroq(model=\"qwen/qwen3-32b\")\n",
    "llm"
   ]
  },
  {
   "cell_type": "code",
   "execution_count": 23,
   "id": "f096d53f",
   "metadata": {},
   "outputs": [
    {
     "data": {
      "text/plain": [
       "[{'name': 'tool1',\n",
       "  'args': {'a': 1, 'b': 4},\n",
       "  'id': 'gdpvwbq0g',\n",
       "  'type': 'tool_call'}]"
      ]
     },
     "execution_count": 23,
     "metadata": {},
     "output_type": "execute_result"
    }
   ],
   "source": [
    "llm_with_tools = llm.bind_tools([tool1])\n",
    "tool_call = llm_with_tools.invoke([HumanMessage(content=\"What is 1+4\")])\n",
    "tool_call.tool_calls"
   ]
  },
  {
   "cell_type": "code",
   "execution_count": 24,
   "id": "22b082e5",
   "metadata": {},
   "outputs": [],
   "source": [
    "from typing_extensions import TypedDict\n",
    "from typing import Annotated\n",
    "from langchain_core.messages import AnyMessage\n",
    "from langgraph.graph.message import add_messages"
   ]
  },
  {
   "cell_type": "code",
   "execution_count": 25,
   "id": "dc4398d5",
   "metadata": {},
   "outputs": [],
   "source": [
    "class State(TypedDict):\n",
    "    messages:Annotated[list[AnyMessage],add_messages]"
   ]
  },
  {
   "cell_type": "code",
   "execution_count": 26,
   "id": "72b6f9a4",
   "metadata": {},
   "outputs": [
    {
     "data": {
      "text/plain": [
       "[AIMessage(content='How May i Help ? ', additional_kwargs={}, response_metadata={}, name='Ai'),\n",
       " HumanMessage(content='i want to Learn Coding , How to Start ', additional_kwargs={}, response_metadata={}, name='ishn')]"
      ]
     },
     "execution_count": 26,
     "metadata": {},
     "output_type": "execute_result"
    }
   ],
   "source": [
    "initial_messages = [AIMessage(content=\"How May i Help ? \",name = \"Ai\")]\n",
    "initial_messages.append(HumanMessage(content=\"i want to Learn Coding , How to Start \",name=\"ishn\"))\n",
    "initial_messages"
   ]
  },
  {
   "cell_type": "code",
   "execution_count": 27,
   "id": "8cf61d4c",
   "metadata": {},
   "outputs": [
    {
     "data": {
      "text/plain": [
       "AIMessage(content='which Coding Language You Want to Start with >? ', additional_kwargs={}, response_metadata={}, name='Ai')"
      ]
     },
     "execution_count": 27,
     "metadata": {},
     "output_type": "execute_result"
    }
   ],
   "source": [
    "llm_message = AIMessage(content=\"which Coding Language You Want to Start with >? \",name=\"Ai\")\n",
    "llm_message"
   ]
  },
  {
   "cell_type": "code",
   "execution_count": 28,
   "id": "3f027f64",
   "metadata": {},
   "outputs": [
    {
     "data": {
      "text/plain": [
       "[AIMessage(content='How May i Help ? ', additional_kwargs={}, response_metadata={}, name='Ai', id='d7e6f7c1-7bc4-40ee-8de4-ce5140db4ac4'),\n",
       " HumanMessage(content='i want to Learn Coding , How to Start ', additional_kwargs={}, response_metadata={}, name='ishn', id='c97281ab-626a-4af1-ab32-ba25de86f933'),\n",
       " AIMessage(content='which Coding Language You Want to Start with >? ', additional_kwargs={}, response_metadata={}, name='Ai', id='9a1f6e45-df19-4e1b-a6d3-4799f7bde185')]"
      ]
     },
     "execution_count": 28,
     "metadata": {},
     "output_type": "execute_result"
    }
   ],
   "source": [
    "all_messages_till_now = add_messages(initial_messages, llm_message)\n",
    "all_messages_till_now"
   ]
  },
  {
   "cell_type": "code",
   "execution_count": 29,
   "id": "cd905dc6",
   "metadata": {},
   "outputs": [],
   "source": [
    "def llm_tool(state:State):\n",
    "    return {\"messages\":[llm_with_tools.invoke(state[\"messages\"])]}"
   ]
  },
  {
   "cell_type": "code",
   "execution_count": 33,
   "id": "06282281",
   "metadata": {},
   "outputs": [
    {
     "data": {
      "text/plain": [
       "<langgraph.graph.state.StateGraph at 0x23d61619c10>"
      ]
     },
     "execution_count": 33,
     "metadata": {},
     "output_type": "execute_result"
    }
   ],
   "source": [
    "from langgraph.graph import StateGraph, START, END\n",
    "\n",
    "Graph_builder = StateGraph(State)\n",
    "Graph_builder.add_node(\"llm_tool\",llm_tool)\n",
    "Graph_builder.add_edge(START,\"llm_tool\")\n",
    "Graph_builder.add_edge(\"llm_tool\",END)"
   ]
  },
  {
   "cell_type": "code",
   "execution_count": 39,
   "id": "1046bdab",
   "metadata": {},
   "outputs": [
    {
     "name": "stdout",
     "output_type": "stream",
     "text": [
      "================================\u001b[1m Human Message \u001b[0m=================================\n",
      "\n",
      "What is 2+2\n",
      "==================================\u001b[1m Ai Message \u001b[0m==================================\n",
      "Tool Calls:\n",
      "  tool1 (b8522p4zg)\n",
      " Call ID: b8522p4zg\n",
      "  Args:\n",
      "    a: 2\n",
      "    b: 2\n"
     ]
    }
   ],
   "source": [
    "graph = Graph_builder.compile()\n",
    "messages = graph.invoke({\"messages\":\"What is 2+2\"})\n",
    "\n",
    "\n",
    "for message in messages[\"messages\"]:\n",
    "    message.pretty_print()"
   ]
  },
  {
   "cell_type": "code",
   "execution_count": 40,
   "id": "d4676bbd",
   "metadata": {},
   "outputs": [],
   "source": [
    "tools = [tool1]\n",
    "from langgraph.prebuilt import ToolNode\n",
    "from langgraph.prebuilt import tools_condition"
   ]
  },
  {
   "cell_type": "code",
   "execution_count": 41,
   "id": "3b516dfc",
   "metadata": {},
   "outputs": [
    {
     "data": {
      "text/plain": [
       "<langgraph.graph.state.StateGraph at 0x23d62bb1790>"
      ]
     },
     "execution_count": 41,
     "metadata": {},
     "output_type": "execute_result"
    }
   ],
   "source": [
    "builder=StateGraph(State)\n",
    "\n",
    "## Add nodes\n",
    "\n",
    "builder.add_node(\"llm_tool\",llm_tool)\n",
    "builder.add_node(\"tools\",ToolNode(tools))"
   ]
  },
  {
   "cell_type": "code",
   "execution_count": 42,
   "id": "cbc774c0",
   "metadata": {},
   "outputs": [],
   "source": [
    "builder.add_edge(START,\"llm_tool\")\n",
    "builder.add_conditional_edges(\n",
    "    \"llm_tool\",\n",
    "    # If the latest message (result) from assistant is a tool call -> tools_condition routes to tools\n",
    "    # If the latest message (result) from assistant is a not a tool call -> tools_condition routes to END\n",
    "    tools_condition\n",
    ")\n",
    "builder.add_edge(\"tools\",END)\n",
    "\n",
    "\n",
    "graph_builder = builder.compile()"
   ]
  },
  {
   "cell_type": "code",
   "execution_count": 44,
   "id": "130c1b42",
   "metadata": {},
   "outputs": [
    {
     "name": "stdout",
     "output_type": "stream",
     "text": [
      "================================\u001b[1m Human Message \u001b[0m=================================\n",
      "\n",
      "What is 7 plus 11110\n",
      "==================================\u001b[1m Ai Message \u001b[0m==================================\n",
      "Tool Calls:\n",
      "  tool1 (0ke3zqtg5)\n",
      " Call ID: 0ke3zqtg5\n",
      "  Args:\n",
      "    a: 7\n",
      "    b: 11110\n"
     ]
    }
   ],
   "source": [
    "messages=graph.invoke({\"messages\":\"What is 7 plus 11110\"})\n",
    "\n",
    "for message in messages[\"messages\"]:\n",
    "    message.pretty_print()"
   ]
  },
  {
   "cell_type": "code",
   "execution_count": null,
   "id": "1b52e4a5",
   "metadata": {},
   "outputs": [
    {
     "name": "stderr",
     "output_type": "stream",
     "text": [
      "Adding a node to a graph that has already been compiled. This will not be reflected in the compiled graph.\n",
      "Adding an edge to a graph that has already been compiled. This will not be reflected in the compiled graph.\n",
      "Adding an edge to a graph that has already been compiled. This will not be reflected in the compiled graph.\n"
     ]
    },
    {
     "data": {
      "text/plain": [
       "<langgraph.graph.state.StateGraph at 0x23d62bb1790>"
      ]
     },
     "execution_count": 45,
     "metadata": {},
     "output_type": "execute_result"
    }
   ],
   "source": []
  },
  {
   "cell_type": "code",
   "execution_count": null,
   "id": "1e75c611",
   "metadata": {},
   "outputs": [
    {
     "name": "stdout",
     "output_type": "stream",
     "text": [
      "================================\u001b[1m Human Message \u001b[0m=================================\n",
      "\n",
      "What is 7 plus 11110\n",
      "==================================\u001b[1m Ai Message \u001b[0m==================================\n",
      "Tool Calls:\n",
      "  tool1 (8csecj1xd)\n",
      " Call ID: 8csecj1xd\n",
      "  Args:\n",
      "    a: 7\n",
      "    b: 11110\n"
     ]
    }
   ],
   "source": []
  }
 ],
 "metadata": {
  "kernelspec": {
   "display_name": "Python 3",
   "language": "python",
   "name": "python3"
  },
  "language_info": {
   "codemirror_mode": {
    "name": "ipython",
    "version": 3
   },
   "file_extension": ".py",
   "mimetype": "text/x-python",
   "name": "python",
   "nbconvert_exporter": "python",
   "pygments_lexer": "ipython3",
   "version": "3.11.9"
  }
 },
 "nbformat": 4,
 "nbformat_minor": 5
}
