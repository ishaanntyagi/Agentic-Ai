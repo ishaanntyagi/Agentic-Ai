{
 "cells": [
  {
   "cell_type": "code",
   "execution_count": null,
   "id": "b730b085",
   "metadata": {},
   "outputs": [],
   "source": [
    "from langchain_core.messages import AIMessage, HumanMessage\n",
    "from pprint import pprint\n",
    "import os\n",
    "from dotenv import load_dotenv\n",
    "\n",
    "from langgraph.graph import StateGraph, START, END\n",
    "from langgraph.graph.message import add_messages\n",
    "\n",
    "load_dotenv()\n",
    "openai_api_key    = os.getenv(\"OPENAI_API_KEY\")\n",
    "gemini_api_key    = os.getenv(\"GEMINI_API_KEY\")\n",
    "groq_api_key      = os.getenv(\"GROQ_API_KEY\")\n",
    "langchain_api_key = os.getenv(\"LANGCHAIN_API_KEY\")"
   ]
  },
  {
   "cell_type": "code",
   "execution_count": 15,
   "id": "e7b71af6",
   "metadata": {},
   "outputs": [],
   "source": [
    "from langchain_google_genai import ChatGoogleGenerativeAI\n",
    "from langchain_groq import ChatGroq\n",
    "\n",
    "\n",
    "llm = ChatGoogleGenerativeAI(model=\"gemini-1.5-pro-latest\",google_api_key = gemini_api_key)\n",
    "llm2 = ChatGroq(model = \"qwen/qwen3-32b\")"
   ]
  },
  {
   "cell_type": "code",
   "execution_count": 20,
   "id": "9d6f7c84",
   "metadata": {},
   "outputs": [],
   "source": [
    "initial_messages = [HumanMessage(content=\"Hey Iam Ishn Do you rememeber me ?\"),\n",
    "            AIMessage(content=\"Hey ishn i do remember you\")]\n",
    "\n",
    "final_messages = [HumanMessage(content=\"Do you remember my name ? Also I wanna Learn how to implement a Trimmer in Messages and Chat context\")]\n",
    "\n",
    "add_messages = initial_messages + final_messages"
   ]
  },
  {
   "cell_type": "code",
   "execution_count": 21,
   "id": "d435411f",
   "metadata": {},
   "outputs": [],
   "source": [
    "response = llm2.invoke(add_messages)"
   ]
  },
  {
   "cell_type": "code",
   "execution_count": 22,
   "id": "891a9a44",
   "metadata": {},
   "outputs": [
    {
     "data": {
      "text/plain": [
       "AIMessage(content='<think>\\nOkay, the user is asking if I remember their name and wants to learn how to implement a Trimmer in Messages and Chat context. Let me break this down.\\n\\nFirst, the name. They mentioned \"Iam Ishn\" earlier. I should confirm that they\\'re Ishn to be polite and keep the conversation friendly. I need to make sure I address them correctly.\\n\\nNow, the main part is about implementing a Trimmer in Messages and Chat. I need to understand what exactly they mean by Trimmer. From context, it might refer to trimming or shortening messages, maybe removing unnecessary parts. But in chat contexts, trimming could have different meanings—like cutting down long messages, summarizing, or handling message length for API limits.\\n\\nI should consider possible scenarios where trimming is needed. For example, if they\\'re using an API that has a character limit, they might need to shorten messages before sending. Or maybe they want to extract the core content from user inputs.\\n\\nI should think about different ways to implement this. For text trimming, techniques like truncating to a certain number of characters, summarizing using NLP techniques, or using regular expressions to remove specific patterns. Also, in chat applications, message trimming might involve handling emojis, formatting, or specific keywords.\\n\\nI need to provide a step-by-step approach. Start by defining the requirements: what exactly needs to be trimmed? Then, choose the method—manual truncation, summarization, or regex. Then, implement the code using Python as an example, maybe with libraries like NLTK or Hugging Face for summarization.\\n\\nAlso, consider edge cases. What if the message is already under the limit? How to handle different languages or special characters? Maybe include error handling in the code examples.\\n\\nI should also mention testing the Trimmer with sample messages to ensure it works as intended. Maybe provide a simple example using Python strings and then a more advanced example with summarization.\\n\\nWait, the user mentioned \"Messages and Chat context\" so perhaps they\\'re working on a messaging app or a chatbot. In that case, the Trimmer might need to be efficient and real-time. Should I suggest asynchronous processing or lightweight methods?\\n\\nAlso, they might need to integrate this into a larger system. Maybe using a function that can be called whenever a message is sent or received. Providing a code snippet that can be easily integrated into their project would be helpful.\\n\\nI should check if there are existing libraries or tools that can help with this. For example, TensorFlow Text for text processing, or SpaCy for NLP tasks. Maybe suggest those if applicable.\\n\\nFinally, make sure the explanation is clear and not too technical, but still detailed enough for someone with some programming knowledge to understand and implement.\\n</think>\\n\\nHey **Ishn**! 👋 I do remember your name. 😊  \\n\\nRegarding your request to implement a **Trimmer** for messages/chats, here\\'s a breakdown of how to approach it. A \"Trimmer\" could mean different things depending on the context, but I\\'ll assume you want to **shorten or summarize messages** (e.g., for character limits, clarity, or API constraints). Here\\'s a step-by-step guide:\\n\\n---\\n\\n### **1. Define the Trimmer\\'s Goal**\\n- **Character trimming**: Shorten a message to a specific length.\\n- **Summarization**: Extract the core idea of a message.\\n- **Keyword extraction**: Highlight key terms.\\n- **Noise removal**: Remove emojis, formatting, or redundant phrases.\\n\\n---\\n\\n### **2. Implementation Examples**\\n\\n#### **A. Character Trimming (Basic)**\\nUse Python to truncate text:\\n```python\\ndef trim_message(text, limit=200):\\n    return text[:limit] + \"...\" if len(text) > limit else text\\n\\n# Example\\nmessage = \"Hey, I\\'m Ishn. I want to learn how to implement a Trimmer in chat apps!\"\\ntrimmed = trim_message(message, limit=50)\\nprint(trimmed)  # Output: \"Hey, I\\'m Ishn. I want to learn how to implement a Tr...\"\\n```\\n\\n---\\n\\n#### **B. Summarization (Advanced)**\\nUse an AI model like **Hugging Face\\'s `transformers`** to summarize long messages:\\n```python\\nfrom transformers import pipeline\\n\\ndef summarize_message(text, max_length=50):\\n    summarizer = pipeline(\"summarization\")\\n    summary = summarizer(text, max_length=max_length, min_length=25, do_sample=False)\\n    return summary[0][\"summary_text\"]\\n\\n# Example\\nlong_message = \"Hey, I\\'m Ishn. I want to learn how to implement a Trimmer in chat apps. It should handle both character limits and extract key ideas for clarity. Can you help?\"\\nsummary = summarize_message(long_message)\\nprint(summary)  # Output: \"Ishn wants to implement a Trimmer for chat apps to shorten messages and extract key ideas.\"\\n```\\n\\n---\\n\\n#### **C. Regex-Based Trimming**\\nRemove specific patterns (e.g., markdown, URLs, emojis):\\n```python\\nimport re\\n\\ndef clean_message(text):\\n    # Remove URLs\\n    text = re.sub(r\\'https?://\\\\S+\\', \\'\\', text)\\n    # Remove emojis\\n    text = re.sub(r\\'[\\\\U00010000-\\\\U0010ffff]\\', \\'\\', text)\\n    return text.strip()\\n\\n# Example\\nmess = \"Check out this link: https://example.com! 😄🔥\"\\nclean_mess = clean_message(mess)\\nprint(clean_mess)  # Output: \"Check out this link: !\"\\n```\\n\\n---\\n\\n### **3. Integrate into a Chat App**\\nIf you\\'re building a chat app (e.g., in Python with Flask or a mobile app SDK), here\\'s how to use the Trimmer:\\n\\n#### **Example: Chat API Integration**\\n```python\\ndef process_user_message(raw_message):\\n    cleaned = clean_message(raw_message)\\n    trimmed = trim_message(cleaned, limit=250)\\n    summary = summarize_message(trimmed)\\n    return summary\\n\\n# Usage\\nuser_input = \"Hi! I\\'m Ishn. I\\'m trying to implement a Trimmer for chat apps. Can you help me with Python code for this?\"\\nprocessed = process_user_message(user_input)\\nprint(processed)\\n```\\n\\n---\\n\\n### **4. Considerations**\\n- **Edge cases**: Handle empty strings, non-ASCII characters, or multi-language support.\\n- **Performance**: For real-time apps, use lightweight models or pre-trained summarizers.\\n- **Custom Rules**: Add regex patterns for specific use cases (e.g., removing hashtags, trimming timestamps).\\n\\n---\\n\\nWould you like a specific example tailored to a framework (e.g., React, Flutter, Python) or API (e.g., Discord, WhatsApp)? 😊', additional_kwargs={}, response_metadata={'token_usage': {'completion_tokens': 1394, 'prompt_tokens': 58, 'total_tokens': 1452, 'completion_time': 5.137825525, 'prompt_time': 0.008357716, 'queue_time': 0.119257144, 'total_time': 5.146183241}, 'model_name': 'qwen/qwen3-32b', 'system_fingerprint': 'fp_5cf921caa2', 'service_tier': 'on_demand', 'finish_reason': 'stop', 'logprobs': None}, id='run--b2779116-b368-4c23-b3ef-b2389785d79c-0', usage_metadata={'input_tokens': 58, 'output_tokens': 1394, 'total_tokens': 1452})"
      ]
     },
     "execution_count": 22,
     "metadata": {},
     "output_type": "execute_result"
    }
   ],
   "source": [
    "response"
   ]
  },
  {
   "cell_type": "markdown",
   "id": "6e2a2238",
   "metadata": {},
   "source": [
    "### ChatHistory Import\n"
   ]
  },
  {
   "cell_type": "code",
   "execution_count": null,
   "id": "3c814819",
   "metadata": {},
   "outputs": [],
   "source": [
    "from langchain_core.chat_history import BaseChatMessageHistory\n",
    "from langchain_community.chat_message_histories import ChatMessageHistory\n",
    "from langchain_core.runnables import RunnableWithMessageHistory\n"
   ]
  }
 ],
 "metadata": {
  "kernelspec": {
   "display_name": "Python 3",
   "language": "python",
   "name": "python3"
  },
  "language_info": {
   "codemirror_mode": {
    "name": "ipython",
    "version": 3
   },
   "file_extension": ".py",
   "mimetype": "text/x-python",
   "name": "python",
   "nbconvert_exporter": "python",
   "pygments_lexer": "ipython3",
   "version": "3.11.9"
  }
 },
 "nbformat": 4,
 "nbformat_minor": 5
}
