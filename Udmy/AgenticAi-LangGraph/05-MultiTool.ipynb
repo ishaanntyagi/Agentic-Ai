{
 "cells": [
  {
   "cell_type": "code",
   "execution_count": 2,
   "id": "b730b085",
   "metadata": {},
   "outputs": [],
   "source": [
    "from langchain_core.messages import AIMessage, HumanMessage\n",
    "from pprint import pprint\n",
    "import os\n",
    "from dotenv import load_dotenv\n",
    "\n",
    "from langgraph.graph import StateGraph, START, END\n",
    "from langgraph.graph.message import add_messages\n",
    "\n",
    "load_dotenv()\n",
    "openai_api_key    = os.getenv(\"OPENAI_API_KEY\")\n",
    "gemini_api_key    = os.getenv(\"GEMINI_API_KEY\")\n",
    "groq_api_key      = os.getenv(\"GROQ_API_KEY\")\n",
    "langchain_api_key = os.getenv(\"LANGCHAIN_API_KEY\")"
   ]
  },
  {
   "cell_type": "code",
   "execution_count": 3,
   "id": "e7b71af6",
   "metadata": {},
   "outputs": [],
   "source": [
    "from langchain_google_genai import ChatGoogleGenerativeAI\n",
    "from langchain_groq import ChatGroq\n",
    "\n",
    "\n",
    "llm = ChatGoogleGenerativeAI(model=\"gemini-2.5-flash\",google_api_key = gemini_api_key)\n",
    "llm2 = ChatGroq(model = \"qwen/qwen3-32b\")"
   ]
  },
  {
   "cell_type": "code",
   "execution_count": 4,
   "id": "9d6f7c84",
   "metadata": {},
   "outputs": [],
   "source": [
    "initial_messages = [HumanMessage(content=\"Hey Iam Ishn Do you rememeber me ?\"),\n",
    "            AIMessage(content=\"Hey ishn i do remember you\")]\n",
    "\n",
    "final_messages = [HumanMessage(content=\"Do you remember my name ? Also I wanna Learn how to implement a Trimmer in Messages and Chat context\")]\n",
    "\n",
    "add_messages = initial_messages + final_messages"
   ]
  },
  {
   "cell_type": "code",
   "execution_count": 5,
   "id": "d435411f",
   "metadata": {},
   "outputs": [],
   "source": [
    "response = llm2.invoke(add_messages)"
   ]
  },
  {
   "cell_type": "code",
   "execution_count": 6,
   "id": "891a9a44",
   "metadata": {},
   "outputs": [
    {
     "data": {
      "text/plain": [
       "AIMessage(content='<think>\\nOkay, the user mentioned they\\'re Ishn and want to learn how to implement a trimmer in messages and chat contexts. Let me start by recalling previous interactions. The user might expect me to remember their name, but since I don\\'t store personal information, I should clarify that. They might be referring to a trimmer as a way to shorten or edit text messages, maybe for privacy or clarity.\\n\\nFirst, I need to confirm if \"trimmer\" refers to text trimming, like shortening messages automatically, or something else. The user might want to implement a feature that trims long messages to a certain length before sending. Alternatively, it could be about removing unnecessary parts from chat logs.\\n\\nI should break down possible approaches. For text trimming, it\\'s about limiting message length, handling overflows, maybe adding ellipsis. For chat contexts, maybe trimming message history to keep a conversation concise. Also, consider user privacy, like anonymizing messages by trimming personal info.\\n\\nI should mention common programming languages used for such tasks—like JavaScript for web apps, Python for backend. Provide code examples for trimming functions, using string methods or libraries. Also, address edge cases, such as preserving message integrity when trimming, avoiding cutting off mid-word.\\n\\nThe user might not have mentioned their tech stack, so I should keep examples general but suggest specific implementations if they provide more details. Also, remind them about user consent if trimming messages for privacy, as that\\'s a legal consideration.\\n\\nWait, the user initially asked if I remember their name. Since I can\\'t retain personal info, I should apologize and explain that. Then pivot to the technical help they need. Make sure the response is helpful and guides them to provide more specifics if needed.\\n</think>\\n\\nHey Ishn! While I don\\'t retain personal information from previous interactions (I reset after each session), I\\'m happy to help you learn about implementing a **message trimmer** for chat contexts. Let’s break it down!  \\n\\n---\\n\\n### **What is a Message Trimmer?**  \\nA *trimmer* in chat contexts typically refers to a tool or function that:  \\n1. **Shortens messages** (e.g., limiting input to a specific character/word count).  \\n2. **Trims chat history** (e.g., removing old messages to keep a conversation concise).  \\n3. **Anonymizes or sanitizes** messages (e.g., removing sensitive data like emails, phone numbers).  \\n\\n---\\n\\n### **Implementing a Trimmer**  \\nHere’s how you can approach it based on your use case:\\n\\n---\\n\\n#### **1. Trim Message Length**  \\n**Goal:** Limit user input (e.g., max 100 characters).  \\n\\n**Code Example (JavaScript/Python):**  \\n```javascript\\n// JavaScript\\nfunction trimMessage(message, maxLength = 100) {\\n  return message.length > maxLength \\n    ? message.substring(0, maxLength) + \"...\" \\n    : message;\\n}\\n\\n// Python\\ndef trim_message(message, max_length=100):\\n    return message[:max_length] + \"...\" if len(message) > max_length else message\\n```\\n\\n**Edge Cases:**  \\n- Avoid cutting words in the middle (e.g., `trimMessage(\"Hello, how are you?\", 10)` → `\"Hello, how...\"`).  \\n- Handle emojis/Unicode characters properly.  \\n\\n---\\n\\n#### **2. Trim Chat History**  \\n**Goal:** Keep only the latest messages in a chat log.  \\n\\n**Code Example (Python):**  \\n```python\\ndef trim_chat_history(chat_history, max_messages=10):\\n    return chat_history[-max_messages:]  # Keep last 10 messages\\n```\\n\\n**Advanced (Weighted Trimming):**  \\n- Prioritize trimming older messages unless marked as important.  \\n\\n---\\n\\n#### **3. Sanitize Sensitive Data**  \\n**Goal:** Remove emails, phone numbers, or other PII.  \\n\\n**Code Example (Python with Regex):**  \\n```python\\nimport re\\n\\ndef sanitize_message(message):\\n    # Remove emails\\n    message = re.sub(r\\'[\\\\w\\\\.-]+@[\\\\w\\\\.-]+\\', \"[EMAIL]\", message)\\n    # Remove phone numbers\\n    message = re.sub(r\\'\\\\+?\\\\d[\\\\d\\\\- ]+[\\\\d]\\', \"[PHONE]\", message)\\n    return message\\n```\\n\\n**Tools for Advanced Sanitization:**  \\n- Use libraries like `regex` for complex patterns.  \\n- Consider NLP libraries (e.g., `spaCy`) for entity recognition (e.g., `PERSON`, `ORG`).  \\n\\n---\\n\\n#### **4. UI/UX for Trimming**  \\n- Show a character/word counter in chat input boxes.  \\n- Auto-trim messages before sending (with user confirmation if desired).  \\n\\n---\\n\\n### **When to Use a Trimmer**  \\n- **Privacy:** Anonymize logs for analysis/testing.  \\n- **Performance:** Reduce payload size in chat apps.  \\n- **Policy Compliance:** Enforce message length rules (e.g., in moderation tools).  \\n\\n---\\n\\nIf you have a specific use case (e.g., trimming messages in a React chat app, Python backend, etc.), let me know! I can tailor the code further. 😊', additional_kwargs={}, response_metadata={'token_usage': {'completion_tokens': 1071, 'prompt_tokens': 58, 'total_tokens': 1129, 'completion_time': 4.49855821, 'prompt_time': 0.007707738, 'queue_time': 0.049380472, 'total_time': 4.506265948}, 'model_name': 'qwen/qwen3-32b', 'system_fingerprint': 'fp_5cf921caa2', 'service_tier': 'on_demand', 'finish_reason': 'stop', 'logprobs': None}, id='run--5d56cfc4-4081-4a31-a854-61674b7f0e2f-0', usage_metadata={'input_tokens': 58, 'output_tokens': 1071, 'total_tokens': 1129})"
      ]
     },
     "execution_count": 6,
     "metadata": {},
     "output_type": "execute_result"
    }
   ],
   "source": [
    "response"
   ]
  },
  {
   "cell_type": "markdown",
   "id": "6e2a2238",
   "metadata": {},
   "source": [
    "### ChatHistory Import\n"
   ]
  },
  {
   "cell_type": "code",
   "execution_count": 7,
   "id": "3c814819",
   "metadata": {},
   "outputs": [],
   "source": [
    "from langchain_core.chat_history import BaseChatMessageHistory\n",
    "from langchain_community.chat_message_histories import ChatMessageHistory\n",
    "from langchain_core.runnables import RunnableWithMessageHistory\n"
   ]
  },
  {
   "cell_type": "code",
   "execution_count": 8,
   "id": "fbc768cc",
   "metadata": {},
   "outputs": [],
   "source": [
    "store = {}\n",
    "def get_session_history(session_id:str)->BaseChatMessageHistory:\n",
    "    if session_id not in store:\n",
    "        store[session_id] = ChatMessageHistory()\n",
    "    return store[session_id]"
   ]
  },
  {
   "cell_type": "code",
   "execution_count": 9,
   "id": "44235b1c",
   "metadata": {},
   "outputs": [],
   "source": [
    "with_session_history = RunnableWithMessageHistory(llm, get_session_history)"
   ]
  },
  {
   "cell_type": "code",
   "execution_count": 10,
   "id": "db7a91ca",
   "metadata": {},
   "outputs": [
    {
     "data": {
      "text/plain": [
       "AIMessage(content='Hey Ishn!\\n\\nThanks for reminding me! As an AI, I don\\'t have personal memory in the way humans do, so I don\\'t \"remember\" past conversations or specific users over time. However, I can see from our current chat that your name is Ishn! It\\'s good to chat with you.\\n\\n---\\n\\nLet\\'s dive into implementing a **Trimmer in Messages and Chat context**. This is a very common and useful feature for improving UI/UX, especially for long messages.\\n\\n### What is a Trimmer in Chat?\\n\\nA \"trimmer\" in this context refers to a mechanism that shortens long text messages for display purposes, usually by cutting them off after a certain length and adding an ellipsis (`...`). It\\'s often accompanied by a \"Read More\" or \"Expand\" button to reveal the full content.\\n\\n### Why Use a Trimmer?\\n\\n1.  **Improved Readability:** Prevents long messages from dominating the screen and pushing other messages out of view.\\n2.  **Better UI Layout:** Helps maintain a consistent and clean chat interface, especially on smaller screens.\\n3.  **Quick Scanning:** Users can quickly scan through messages without getting overwhelmed by large blocks of text.\\n4.  **Performance (Minor):** Reduces the amount of text rendered initially, though this is usually a minor factor.\\n\\n### Core Principles of Implementation\\n\\n1.  **Define a Maximum Length:** Decide on a character limit (e.g., 150-300 characters) after which a message will be trimmed.\\n2.  **Check Message Length:** Compare the message\\'s actual length to the defined maximum.\\n3.  **Trim and Add Ellipsis:** If the message exceeds the limit, truncate it and append `...`.\\n4.  **Provide \"Read More\" Option:** Offer a way for users to view the full message (e.g., a button, or clicking the message itself).\\n5.  **\"Show Less\" Option:** Once expanded, provide a way to collapse it back.\\n\\n### Implementation Steps (Conceptual)\\n\\n1.  **Message Data:** You\\'ll have a `message` object or string.\\n2.  **State Management:** In a front-end framework (like React, Vue, Angular), you\\'ll likely use local component state to track whether a message is currently \"expanded\" or \"collapsed.\"\\n3.  **Conditional Rendering:** Based on the state, render either the trimmed version or the full version.\\n\\n### Code Example (JavaScript/React-like)\\n\\nLet\\'s create a simple React component that demonstrates this. The principles can be adapted to other frameworks or plain JavaScript.\\n\\n```jsx\\nimport React, { useState } from \\'react\\';\\n\\n// Utility function to trim a message\\nconst trimMessage = (text, maxLength) => {\\n  if (text.length <= maxLength) {\\n    return text;\\n  }\\n  // Find the last space before the trim point to avoid cutting a word\\n  const lastSpaceIndex = text.lastIndexOf(\\' \\', maxLength);\\n  const trimPoint = lastSpaceIndex > 0 ? lastSpaceIndex : maxLength;\\n  \\n  return text.substring(0, trimPoint) + \\'...\\';\\n};\\n\\n// React Component for displaying a message with a trimmer\\nconst MessageDisplay = ({ messageContent, maxLength = 200 }) => {\\n  const [isExpanded, setIsExpanded] = useState(false);\\n\\n  const needsTrimming = messageContent.length > maxLength;\\n  const displayedContent = isExpanded || !needsTrimming\\n    ? messageContent\\n    : trimMessage(messageContent, maxLength);\\n\\n  return (\\n    <div className=\"message-bubble\">\\n      <p className=\"message-text\">\\n        {displayedContent}\\n      </p>\\n      {needsTrimming && (\\n        <button\\n          className=\"read-more-button\"\\n          onClick={() => setIsExpanded(!isExpanded)}\\n        >\\n          {isExpanded ? \\'Show Less\\' : \\'Read More\\'}\\n        </button>\\n      )}\\n    </div>\\n  );\\n};\\n\\n// Example Usage:\\nfunction App() {\\n  const shortMessage = \"Hello, this is a short message.\";\\n  const longMessage = `This is a very long message that demonstrates how a trimmer works in a chat context. It\\'s designed to exceed the default maximum length so that the \"Read More\" button becomes visible. When you click \"Read More,\" the entire message will be displayed, and the button will change to \"Show Less\" to allow you to collapse it again. This helps keep the chat interface clean and readable, especially with users who like to send very verbose messages.`;\\n\\n  return (\\n    <div className=\"chat-container\">\\n      <h2>Chat Messages</h2>\\n      <MessageDisplay messageContent={shortMessage} />\\n      <MessageDisplay messageContent={longMessage} maxLength={150} />\\n      <MessageDisplay messageContent={longMessage} maxLength={50} /> {/* Even shorter trim */}\\n    </div>\\n  );\\n}\\n\\nexport default App;\\n```\\n\\n**Basic CSS (for context):**\\n\\n```css\\n.chat-container {\\n  max-width: 600px;\\n  margin: 20px auto;\\n  border: 1px solid #ccc;\\n  padding: 10px;\\n  background-color: #f9f9f9;\\n}\\n\\n.message-bubble {\\n  background-color: #e0e0e0;\\n  padding: 10px 15px;\\n  border-radius: 15px;\\n  margin-bottom: 10px;\\n  word-wrap: break-word; /* Ensure long words break */\\n}\\n\\n.message-text {\\n  margin: 0;\\n  white-space: pre-wrap; /* Preserves whitespace and line breaks */\\n}\\n\\n.read-more-button {\\n  background: none;\\n  border: none;\\n  color: #007bff;\\n  cursor: pointer;\\n  font-size: 0.9em;\\n  margin-top: 5px;\\n  padding: 0;\\n}\\n\\n.read-more-button:hover {\\n  text-decoration: underline;\\n}\\n```\\n\\n### Advanced Considerations\\n\\n1.  **Word vs. Character Limit:**\\n    *   The example uses a character limit. You could also implement a word limit, but it\\'s generally trickier because words can vary greatly in length, and punctuation needs careful handling. Character limits are more predictable for UI.\\n2.  **Unicode Characters (Emojis, etc.):**\\n    *   JavaScript\\'s `substring()` method works with Unicode code points, but some characters (like certain emojis) might be represented by multiple code points. For precise character counting, especially with diverse languages, you might need a more robust library or `Array.from(text).slice(0, maxLength).join(\\'\\')`. However, for most common use cases, `substring` is sufficient.\\n3.  **HTML/Markdown in Messages:**\\n    *   If your messages contain HTML or Markdown, simply truncating the raw string can break the markup, leading to display issues or security vulnerabilities. You\\'ll need to:\\n        *   **Render first, then trim:** Trim the *rendered* text, not the raw HTML/Markdown. This is complex as you\\'d need to measure visible text.\\n        *   **Trim before rendering (carefully):** Use a library that can safely trim HTML/Markdown while preserving its structure (e.g., `react-truncate-html` or similar). This is generally harder.\\n        *   **Best practice:** If messages contain complex formatting, it\\'s often better to show the entire message or only trim very simple plain text previews.\\n4.  **Accessibility:**\\n    *   Ensure the \"Read More\" button is focusable and has an appropriate `aria-label` (e.g., `aria-label=\"Expand full message\"`).\\n5.  **Performance for Many Messages:**\\n    *   For a chat with thousands of messages, ensure that the trimming logic is efficient. The provided `trimMessage` function is very light. The `useState` updates only affect the specific message component, so it\\'s generally performant.\\n6.  **Backend vs. Frontend Trimming:**\\n    *   **Frontend Trimming (like the example):** Most common. The full message is sent to the client, and the client-side code decides how to display it. This gives the most flexibility for UI.\\n    *   **Backend Trimming:** The server sends a trimmed version of the message (e.g., for notifications, message previews, or to save bandwidth). If the user wants the full message, a separate API call might be needed. This adds complexity but can be useful for very large messages or specific use cases.\\n\\nThis setup provides a robust and user-friendly way to handle long messages in your chat application!', additional_kwargs={}, response_metadata={'prompt_feedback': {'block_reason': 0, 'safety_ratings': []}, 'finish_reason': 'STOP', 'model_name': 'gemini-2.5-flash', 'safety_ratings': []}, id='run--25959df3-5f67-4d6b-b743-d9f4bb4f21db-0', usage_metadata={'input_tokens': 43, 'output_tokens': 3413, 'total_tokens': 3456, 'input_token_details': {'cache_read': 0}, 'output_token_details': {'reasoning': 1487}})"
      ]
     },
     "execution_count": 10,
     "metadata": {},
     "output_type": "execute_result"
    }
   ],
   "source": [
    "config = {\"configurable\": {\"session_id\":\"Chat1\"}}\n",
    "with_session_history.invoke(add_messages,config=config)"
   ]
  },
  {
   "cell_type": "code",
   "execution_count": 11,
   "id": "2cffa463",
   "metadata": {},
   "outputs": [],
   "source": [
    "new_messages = HumanMessage(content=\"Can you Access links , if in case i provide you my Github repo link >? \")"
   ]
  },
  {
   "cell_type": "code",
   "execution_count": 12,
   "id": "fdd5bed7",
   "metadata": {},
   "outputs": [],
   "source": [
    "add_messages.append(new_messages)"
   ]
  },
  {
   "cell_type": "code",
   "execution_count": 14,
   "id": "af5b089c",
   "metadata": {},
   "outputs": [
    {
     "data": {
      "text/plain": [
       "AIMessage(content='Hey Ishn!\\n\\nThanks for asking again. As an AI, I don\\'t have a personal memory that carries over from one interaction to the next, or a persistent identity for users. I process information in the moment. So, while I don\\'t \"remember\" you from a past session, I can see your name – Ishn – right here in our current conversation! It\\'s good to chat with you.\\n\\n---\\n\\nRegarding your question about accessing links:\\n\\n**No, I cannot directly access external links, including GitHub repository links or any other URLs.**\\n\\nMy capabilities are limited to processing the text information that you provide within our chat. I don\\'t have a web browser or the ability to navigate the internet. This is by design for several reasons:\\n\\n*   **Security:** To prevent potential security risks associated with browsing unknown sites.\\n*   **Privacy:** To ensure that my interactions remain within the scope of our conversation and don\\'t inadvertently access private information on external sites.\\n*   **Design:** I am a language model, not a web-crawling agent.\\n\\n**How I can help if you have a GitHub repo:**\\n\\nIf you\\'d like me to review or help with code from your GitHub repo, you would need to **copy and paste the relevant code snippets, file contents, or descriptions directly into our chat.**\\n\\nFor example, you could paste:\\n*   A specific function or component you\\'re working on.\\n*   A configuration file.\\n*   A description of your project\\'s architecture.\\n*   An error message you\\'re encountering.\\n\\nThen, I can analyze that text and provide feedback, suggestions, or help with your questions!', additional_kwargs={}, response_metadata={'prompt_feedback': {'block_reason': 0, 'safety_ratings': []}, 'finish_reason': 'STOP', 'model_name': 'gemini-2.5-flash', 'safety_ratings': []}, id='run--9374ec3a-8af6-4303-9213-b2c9cd09bc5b-0', usage_metadata={'input_tokens': 2032, 'output_tokens': 796, 'total_tokens': 2828, 'input_token_details': {'cache_read': 0}, 'output_token_details': {'reasoning': 444}})"
      ]
     },
     "execution_count": 14,
     "metadata": {},
     "output_type": "execute_result"
    }
   ],
   "source": [
    "with_session_history.invoke(add_messages,config=config)"
   ]
  },
  {
   "cell_type": "code",
   "execution_count": 15,
   "id": "d74bdc83",
   "metadata": {},
   "outputs": [
    {
     "ename": "SyntaxError",
     "evalue": "invalid syntax (<string>, line 1)",
     "output_type": "error",
     "traceback": [
      "Traceback \u001b[36m(most recent call last)\u001b[39m:\n",
      "  File \u001b[92m~\\AppData\\Roaming\\Python\\Python311\\site-packages\\IPython\\core\\interactiveshell.py:3699\u001b[39m in \u001b[95mrun_code\u001b[39m\n    exec(code_obj, self.user_global_ns, self.user_ns)\n",
      "\u001b[36m  \u001b[39m\u001b[36mCell\u001b[39m\u001b[36m \u001b[39m\u001b[32mIn[15]\u001b[39m\u001b[32m, line 1\u001b[39m\n\u001b[31m    \u001b[39m\u001b[31muser_input_texual_message = eval(input(\"Ask your Question\"))\u001b[39m\n",
      "  \u001b[36mFile \u001b[39m\u001b[32m<string>:1\u001b[39m\n\u001b[31m    \u001b[39m\u001b[31mWhat is my age ?\u001b[39m\n               ^\n\u001b[31mSyntaxError\u001b[39m\u001b[31m:\u001b[39m invalid syntax\n"
     ]
    }
   ],
   "source": [
    "user_input_texual_message = eval(input(\"Ask your Question\"))\n"
   ]
  }
 ],
 "metadata": {
  "kernelspec": {
   "display_name": "Python 3",
   "language": "python",
   "name": "python3"
  },
  "language_info": {
   "codemirror_mode": {
    "name": "ipython",
    "version": 3
   },
   "file_extension": ".py",
   "mimetype": "text/x-python",
   "name": "python",
   "nbconvert_exporter": "python",
   "pygments_lexer": "ipython3",
   "version": "3.11.9"
  }
 },
 "nbformat": 4,
 "nbformat_minor": 5
}
