{
 "cells": [
  {
   "cell_type": "code",
   "execution_count": 18,
   "id": "b730b085",
   "metadata": {},
   "outputs": [],
   "source": [
    "from langchain_core.messages import AIMessage, HumanMessage\n",
    "from pprint import pprint\n",
    "import os\n",
    "from dotenv import load_dotenv\n",
    "\n",
    "from langgraph.graph import StateGraph, START, END\n",
    "from langgraph.graph.message import add_messages\n",
    "\n",
    "load_dotenv()\n",
    "openai_api_key    = os.getenv(\"OPENAI_API_KEY\")\n",
    "gemini_api_key    = os.getenv(\"GEMINI_API_KEY\")\n",
    "groq_api_key      = os.getenv(\"GROQ_API_KEY\")\n",
    "langchain_api_key = os.getenv(\"LANGCHAIN_API_KEY\")"
   ]
  },
  {
   "cell_type": "code",
   "execution_count": 19,
   "id": "e7b71af6",
   "metadata": {},
   "outputs": [],
   "source": [
    "from langchain_google_genai import ChatGoogleGenerativeAI\n",
    "from langchain_groq import ChatGroq\n",
    "\n",
    "\n",
    "llm = ChatGoogleGenerativeAI(model=\"gemini-2.5-flash\",google_api_key = gemini_api_key)\n",
    "llm2 = ChatGroq(model = \"qwen/qwen3-32b\")"
   ]
  },
  {
   "cell_type": "code",
   "execution_count": 20,
   "id": "9d6f7c84",
   "metadata": {},
   "outputs": [],
   "source": [
    "initial_messages = [HumanMessage(content=\"Hey Iam Ishn Do you rememeber me ?\"),\n",
    "            AIMessage(content=\"Hey ishn i do remember you\")]\n",
    "\n",
    "final_messages = [HumanMessage(content=\"Do you remember my name ? Also I wanna Learn how to implement a Trimmer in Messages and Chat context\")]\n",
    "\n",
    "add_messages = initial_messages + final_messages"
   ]
  },
  {
   "cell_type": "code",
   "execution_count": 21,
   "id": "d435411f",
   "metadata": {},
   "outputs": [],
   "source": [
    "response = llm2.invoke(add_messages)"
   ]
  },
  {
   "cell_type": "code",
   "execution_count": 22,
   "id": "891a9a44",
   "metadata": {},
   "outputs": [
    {
     "data": {
      "text/plain": [
       "AIMessage(content='<think>\\nOkay, the user is Ishn and they want to learn how to implement a Trimmer in a messages and chat context. First, I need to confirm if they\\'re referring to a text trimmer, which usually means limiting text length, or maybe a specific UI component like a slider for adjusting content. Since they mentioned \"messages and chat,\" it\\'s likely about truncating text and providing a way to expand/collapse. Also, they might be looking for a UI element similar to a range slider but for text trimming.\\n\\nI should start by clarifying what they mean by \"Trimmer\" to ensure I address the right use case. Then, break down the implementation steps: identifying the use case (truncating text, adding a toggle, or a UI slider). For each approach, provide examples in common frameworks like HTML/CSS/JavaScript or React. Include code snippets and explain the logic. Mention accessibility considerations, especially for UI elements. Finally, offer further assistance if they need clarification or more details. Need to keep the explanation clear and step-by-step, avoiding jargon unless necessary. Also, check if they have any specific framework or technology in mind to tailor the examples accordingly.\\n</think>\\n\\nHey Ishn! 😊 I\\'m glad you remembered me. Let\\'s dive into your request about implementing a **\"Trimmer\"** in a messages/chat context.\\n\\n### First, Clarifying Your Use Case\\nYou might be referring to:\\n1. **Text Truncation** (e.g., \"This message is 150 characters long. Show more...\")\\n2. **UI Slider/Range Trimmer** (e.g., a visual slider to adjust message visibility)\\n3. **Content Filtering** (e.g., trimming sensitive words/emojis from messages)\\n\\nFor this example, I\\'ll assume **Option 1 (Text Truncation)** since it’s common in chat apps. If you meant something else, just clarify!\\n\\n---\\n\\n### ✅ Text Truncation in Chat (HTML/CSS/JavaScript)\\nHere’s a basic implementation:\\n\\n#### 1. **HTML Structure**\\n```html\\n<div class=\"message-container\">\\n  <p class=\"message\" id=\"message\">This is a very long message that needs to be trimmed for readability in a chat interface.</p>\\n  <button class=\"toggle-btn\">Show more</button>\\n</div>\\n```\\n\\n#### 2. **CSS for Truncation**\\n```css\\n.message {\\n  max-height: 2.5em; /* Adjust based on line height */\\n  overflow: hidden;\\n  transition: max-height 0.3s ease;\\n}\\n\\n.message.expanded {\\n  max-height: 1000px; /* Let content expand fully */\\n}\\n```\\n\\n#### 3. **JavaScript Logic**\\n```javascript\\nconst message = document.getElementById(\"message\");\\nconst toggleBtn = document.querySelector(\".toggle-btn\");\\n\\ntoggleBtn.addEventListener(\"click\", () => {\\n  message.classList.toggle(\"expanded\");\\n  toggleBtn.textContent = message.classList.contains(\"expanded\") \\n    ? \"Show less\" \\n    : \"Show more\";\\n});\\n```\\n\\n---\\n\\n### 🚀 Advanced: Dynamic Trimming Based on Length\\nIf you want to trim messages dynamically (e.g., truncate to 100 characters):\\n\\n#### JavaScript Example:\\n```javascript\\nfunction trimMessage(text, maxLength) {\\n  return text.length > maxLength \\n    ? text.slice(0, maxLength) + \"...\" \\n    : text;\\n}\\n\\n// Usage\\nconst originalText = \"This is a long message...\";\\ndocument.getElementById(\"message\").textContent = trimMessage(originalText, 100);\\n```\\n\\n---\\n\\n### 🔧 Framework Example (React)\\nIf you\\'re using React, here’s a functional component:\\n\\n```jsx\\nimport React, { useState } from \"react\";\\n\\nfunction ChatMessage({ text }) {\\n  const [isExpanded, setIsExpanded] = useState(false);\\n  const maxLength = 100;\\n\\n  const trimmedText = isExpanded \\n    ? text \\n    : text.length > maxLength \\n      ? text.slice(0, maxLength) + \"...\" \\n      : text;\\n\\n  return (\\n    <div>\\n      <p>{trimmedText}</p>\\n      {text.length > maxLength && (\\n        <button onClick={() => setIsExpanded(!isExpanded)}>\\n          {isExpanded ? \"Show less\" : \"Show more\"}\\n        </button>\\n      )}\\n    </div>\\n  );\\n}\\n```\\n\\n---\\n\\n### 🛠️ Optional: Add a \"Trimmer\" Slider (Range Input)\\nIf you want a **UI slider** to adjust trim length:\\n\\n#### HTML:\\n```html\\n<input type=\"range\" min=\"50\" max=\"300\" value=\"100\" id=\"trimSlider\">\\n<div id=\"outputText\">This is a long message...</div>\\n```\\n\\n#### JavaScript:\\n```javascript\\nconst slider = document.getElementById(\"trimSlider\");\\nconst output = document.getElementById(\"outputText\");\\n\\nslider.addEventListener(\"input\", () => {\\n  output.textContent = trimMessage(originalText, slider.value);\\n});\\n```\\n\\n---\\n\\n### 🧠 Pro Tips\\n- **Accessibility**: Add `aria-label` to buttons/sliders.\\n- **Performance**: Avoid re-rendering large chat logs when trimming.\\n- **Mobile-First**: Ensure sliders/buttons are touch-friendly.\\n\\n---\\n\\n### Want to Explore Another Approach?\\nLet me know if you meant something else (e.g., trimming audio/video in messages, or using a specific framework like Vue/Angular). I’m here to help! 😊', additional_kwargs={}, response_metadata={'token_usage': {'completion_tokens': 1123, 'prompt_tokens': 58, 'total_tokens': 1181, 'completion_time': 3.549172973, 'prompt_time': 0.123741731, 'queue_time': 0.047884709, 'total_time': 3.672914704}, 'model_name': 'qwen/qwen3-32b', 'system_fingerprint': 'fp_5cf921caa2', 'service_tier': 'on_demand', 'finish_reason': 'stop', 'logprobs': None}, id='run--23f7b11a-c5ea-4b9c-8c61-778aabbaab9b-0', usage_metadata={'input_tokens': 58, 'output_tokens': 1123, 'total_tokens': 1181})"
      ]
     },
     "execution_count": 22,
     "metadata": {},
     "output_type": "execute_result"
    }
   ],
   "source": [
    "response"
   ]
  },
  {
   "cell_type": "markdown",
   "id": "6e2a2238",
   "metadata": {},
   "source": [
    "### ChatHistory Import\n"
   ]
  },
  {
   "cell_type": "code",
   "execution_count": 23,
   "id": "3c814819",
   "metadata": {},
   "outputs": [],
   "source": [
    "from langchain_core.chat_history import BaseChatMessageHistory\n",
    "from langchain_community.chat_message_histories import ChatMessageHistory\n",
    "from langchain_core.runnables import RunnableWithMessageHistory\n"
   ]
  },
  {
   "cell_type": "code",
   "execution_count": 24,
   "id": "fbc768cc",
   "metadata": {},
   "outputs": [],
   "source": [
    "store = {}\n",
    "def get_session_history(session_id:str)->BaseChatMessageHistory:\n",
    "    if session_id not in store:\n",
    "        store[session_id] = ChatMessageHistory()\n",
    "    return store[session_id]"
   ]
  },
  {
   "cell_type": "code",
   "execution_count": 25,
   "id": "44235b1c",
   "metadata": {},
   "outputs": [],
   "source": [
    "with_session_history = RunnableWithMessageHistory(llm, get_session_history)"
   ]
  },
  {
   "cell_type": "code",
   "execution_count": 26,
   "id": "db7a91ca",
   "metadata": {},
   "outputs": [
    {
     "data": {
      "text/plain": [
       "AIMessage(content='Yes, based on our previous interaction, you told me your name is **Ishn**! Did I get that right?\\n\\n---\\n\\nNow, let\\'s dive into implementing a **Trimmer in Messages and Chat context**. This is a very common and useful feature!\\n\\nA \"trimmer\" generally refers to a function or process that **shortens or cleans up text**. In chat, this usually means:\\n\\n1.  **Truncating long messages:** For previews, notifications, or to fit into UI constraints, adding an ellipsis (`...`) at the end.\\n2.  **Whitespace trimming:** Removing leading/trailing spaces or collapsing multiple internal spaces.\\n\\nLet\\'s break down how to implement both, with examples in Python and JavaScript (since these are common for backend/frontend chat systems).\\n\\n---\\n\\n### 1. Length-Based Trimming (Truncation)\\n\\nThis is the most common type of \"trimmer\" in chat. You want to limit a message to a certain number of characters and indicate that it\\'s been cut off.\\n\\n**Key Considerations:**\\n\\n*   **`max_length`:** The maximum desired length of the string, *including* the ellipsis.\\n*   **`ellipsis`:** The string to append (e.g., `...`, `... read more`).\\n*   **Word Boundaries:** Ideally, you don\\'t want to cut a word in half.\\n*   **Handling short messages:** If the message is already shorter than `max_length`, return it as is.\\n*   **Handling very short `max_length`:** What if `max_length` is smaller than the `ellipsis` itself?\\n\\n#### Python Example:\\n\\n```python\\ndef trim_message_length(message: str, max_length: int = 100, ellipsis: str = \"...\") -> str:\\n    \"\"\"\\n    Trims a message to a specified max_length, adding an ellipsis if truncated.\\n    Attempts to trim at a word boundary if possible.\\n    \"\"\"\\n    if not isinstance(message, str):\\n        return \"\" # Or raise an error, depending on desired behavior\\n\\n    message = message.strip() # Good practice to trim whitespace first\\n\\n    if len(message) <= max_length:\\n        return message\\n\\n    # Calculate actual maximum length for the text part, accounting for ellipsis\\n    effective_max_length = max_length - len(ellipsis)\\n\\n    # If effective_max_length is too small, just return a truncated ellipsis\\n    if effective_max_length <= 0:\\n        return ellipsis[:max_length] # Return as much of the ellipsis as fits\\n\\n    trimmed_text = message[:effective_max_length]\\n\\n    # Try to find a word boundary (last space)\\n    last_space_index = trimmed_text.rfind(\\' \\')\\n\\n    # If a space is found and it\\'s not too close to the beginning (to avoid very short words + ellipsis)\\n    if last_space_index != -1 and last_space_index > (effective_max_length * 0.5): # Heuristic: cut near end\\n        return message[:last_space_index].strip() + ellipsis\\n    else:\\n        # No suitable space found, or message is one long word, just cut\\n        return trimmed_text.strip() + ellipsis\\n\\n# --- Usage Examples ---\\nprint(f\"Original: \\'Hello, this is a relatively short message.\\'\")\\nprint(f\"Trimmed (default): \\'{trim_message_length(\\'Hello, this is a relatively short message.\\')}\\'\")\\n# Output: Hello, this is a relatively short message.\\n\\nprint(f\"Original: \\'This is a very long message that needs to be trimmed down for a chat preview or notification display. It contains a lot of words and information.\\'\")\\nprint(f\"Trimmed (100): \\'{trim_message_length(\\'This is a very long message that needs to be trimmed down for a chat preview or notification display. It contains a lot of words and information.\\', 100)}\\'\")\\n# Output: This is a very long message that needs to be trimmed down for a chat preview or notification...\\n\\nprint(f\"Trimmed (50): \\'{trim_message_length(\\'This is a very long message that needs to be trimmed down for a chat preview or notification display. It contains a lot of words and information.\\', 50)}\\'\")\\n# Output: This is a very long message that needs to be...\\n\\nprint(f\"Trimmed (10, \\'...\\'): \\'{trim_message_length(\\'A very long singlewordmessage.\\', 10, \\'...\\')}\\'\")\\n# Output: A very lo...\\n\\nprint(f\"Trimmed (5, \\'...\\'): \\'{trim_message_length(\\'Hello\\', 5, \\'...\\')}\\'\")\\n# Output: Hello\\n\\nprint(f\"Trimmed (3, \\'...\\'): \\'{trim_message_length(\\'Hello\\', 3, \\'...\\')}\\'\")\\n# Output: Hel... (max_length is too small for ellipsis, so it truncates text)\\n\\nprint(f\"Trimmed (2, \\'...\\'): \\'{trim_message_length(\\'Hello\\', 2, \\'...\\')}\\'\")\\n# Output: .. (max_length is smaller than ellipsis, so it truncates ellipsis)\\n```\\n\\n#### JavaScript Example:\\n\\n```javascript\\nfunction trimMessageLength(message, maxLength = 100, ellipsis = \"...\") {\\n    if (typeof message !== \\'string\\') {\\n        return \"\";\\n    }\\n\\n    message = message.trim(); // Good practice to trim whitespace first\\n\\n    if (message.length <= maxLength) {\\n        return message;\\n    }\\n\\n    const effectiveMaxLength = maxLength - ellipsis.length;\\n\\n    if (effectiveMaxLength <= 0) {\\n        return ellipsis.substring(0, maxLength);\\n    }\\n\\n    let trimmedText = message.substring(0, effectiveMaxLength);\\n\\n    // Try to find a word boundary (last space)\\n    const lastSpaceIndex = trimmedText.lastIndexOf(\\' \\');\\n\\n    if (lastSpaceIndex !== -1 && lastSpaceIndex > (effectiveMaxLength * 0.5)) {\\n        return message.substring(0, lastSpaceIndex).trim() + ellipsis;\\n    } else {\\n        return trimmedText.trim() + ellipsis;\\n    }\\n}\\n\\n// --- Usage Examples ---\\nconsole.log(`Original: \\'Hello, this is a relatively short message.\\'`);\\nconsole.log(`Trimmed (default): \\'${trimMessageLength(\\'Hello, this is a relatively short message.\\')}\\'`);\\n// Output: Hello, this is a relatively short message.\\n\\nconsole.log(`Original: \\'This is a very long message that needs to be trimmed down for a chat preview or notification display. It contains a lot of words and information.\\'`);\\nconsole.log(`Trimmed (100): \\'${trimMessageLength(\\'This is a very long message that needs to be trimmed down for a chat preview or notification display. It contains a lot of words and information.\\', 100)}\\'`);\\n// Output: This is a very long message that needs to be trimmed down for a chat preview or notification...\\n\\nconsole.log(`Trimmed (50): \\'${trimMessageLength(\\'This is a very long message that needs to be trimmed down for a chat preview or notification display. It contains a lot of words and information.\\', 50)}\\'`);\\n// Output: This is a very long message that needs to be...\\n\\nconsole.log(`Trimmed (10, \\'...\\'): \\'${trimMessageLength(\\'A very long singlewordmessage.\\', 10, \\'...\\')}\\'`);\\n// Output: A very lo...\\n\\nconsole.log(`Trimmed (5, \\'...\\'): \\'${trimMessageLength(\\'Hello\\', 5, \\'...\\')}\\'`);\\n// Output: Hello\\n\\nconsole.log(`Trimmed (3, \\'...\\'): \\'${trimMessageLength(\\'Hello\\', 3, \\'...\\')}\\'`);\\n// Output: Hel...\\n\\nconsole.log(`Trimmed (2, \\'...\\'): \\'${trimMessageLength(\\'Hello\\', 2, \\'...\\')}\\'`);\\n// Output: ..\\n```\\n\\n---\\n\\n### 2. Whitespace Trimming & Normalization\\n\\nThis type of trimming focuses on cleaning up the spaces within a message.\\n\\n*   **Remove leading/trailing whitespace:** Get rid of spaces/tabs/newlines at the beginning and end.\\n*   **Collapse multiple internal spaces:** Replace sequences of multiple spaces with a single space.\\n\\n#### Python Example:\\n\\n```python\\nimport re\\n\\ndef normalize_whitespace(message: str) -> str:\\n    \"\"\"\\n    Removes leading/trailing whitespace and collapses multiple internal spaces.\\n    \"\"\"\\n    if not isinstance(message, str):\\n        return \"\"\\n\\n    # 1. Remove leading/trailing whitespace\\n    message = message.strip()\\n    # 2. Replace multiple internal spaces (including tabs, newlines) with a single space\\n    message = re.sub(r\\'\\\\s+\\', \\' \\', message)\\n    return message\\n\\n# --- Usage Examples ---\\nprint(f\"Original: \\'  Hello   World!  \\\\nThis is a test.  \\'\")\\nprint(f\"Normalized: \\'{normalize_whitespace(\\'  Hello   World!  \\\\nThis is a test.  \\')}\\'\")\\n# Output: \\'Hello World! This is a test.\\'\\n\\nprint(f\"Original: \\'\\\\tAnother  example with\\\\tmixed  spaces.\\'\")\\nprint(f\"Normalized: \\'{normalize_whitespace(\\'\\\\tAnother  example with\\\\tmixed  spaces.\\')}\\'\")\\n# Output: \\'Another example with mixed spaces.\\'\\n```\\n\\n#### JavaScript Example:\\n\\n```javascript\\nfunction normalizeWhitespace(message) {\\n    if (typeof message !== \\'string\\') {\\n        return \"\";\\n    }\\n\\n    // 1. Remove leading/trailing whitespace\\n    message = message.trim();\\n    // 2. Replace multiple internal spaces (including tabs, newlines) with a single space\\n    message = message.replace(/\\\\s+/g, \\' \\');\\n    return message;\\n}\\n\\n// --- Usage Examples ---\\nconsole.log(`Original: \\'  Hello   World!  \\\\nThis is a test.  \\'`);\\nconsole.log(`Normalized: \\'${normalizeWhitespace(\\'  Hello   World!  \\\\nThis is a test.  \\')}\\'`);\\n// Output: \\'Hello World! This is a test.\\'\\n\\nconsole.log(`Original: \\'\\\\tAnother  example with\\\\tmixed  spaces.\\'`);\\nconsole.log(`Normalized: \\'${normalizeWhitespace(\\'\\\\tAnother  example with\\\\tmixed  spaces.\\')}\\'`);\\n// Output: \\'Another example with mixed spaces.\\'\\n```\\n\\n---\\n\\n### How to use them in a Chat Context:\\n\\nYou would typically apply these trimmers in various parts of your chat application:\\n\\n1.  **Frontend (UI Display):**\\n    *   For displaying message previews in a chat list: Use `trimMessageLength`.\\n    *   For notifications (push notifications, in-app banners): Use `trimMessageLength`.\\n    *   For displaying a \"shortened\" version of a message that expands on click: Use `trimMessageLength`.\\n\\n2.  **Backend (Data Processing/Storage):**\\n    *   Before saving a message to the database, you might use `normalizeWhitespace` to ensure consistent data and prevent users from sending messages with excessive spacing.\\n    *   If you have specific database column length limits, you might apply `trimMessageLength` *before* saving, though usually, you\\'d prefer to save the full message and trim only for display.\\n\\n**Example Scenario:**\\n\\nImagine a chat application where a user sends a message:\\n`\"   Hey everyone!   This is a really important announcement about the party happening tonight. Don\\'t forget to bring snacks and good vibes! #partytime 🎉🥳   \"`\\n\\n1.  **Before saving to DB (optional, good for cleaning):**\\n    `normalized_message = normalize_whitespace(original_message)`\\n    Result: `\"Hey everyone! This is a really important announcement about the party happening tonight. Don\\'t forget to bring snacks and good vibes! #partytime 🎉🥳\"`\\n\\n2.  **For a chat list preview (e.g., max 50 chars):**\\n    `preview_text = trim_message_length(normalized_message, 50)`\\n    Result: `\"Hey everyone! This is a really important... \"`\\n\\n3.  **For a push notification (e.g., max 70 chars):**\\n    `notification_text = trim_message_length(normalized_message, 70)`\\n    Result: `\"Hey everyone! This is a really important announcement about the... \"`\\n\\nBy combining these trimming techniques, you can create a more robust and user-friendly chat experience!', additional_kwargs={}, response_metadata={'prompt_feedback': {'block_reason': 0, 'safety_ratings': []}, 'finish_reason': 'STOP', 'model_name': 'gemini-2.5-flash', 'safety_ratings': []}, id='run--b7b19ade-cc40-4c0e-ab5d-df54a6e84f11-0', usage_metadata={'input_tokens': 43, 'output_tokens': 4829, 'total_tokens': 4872, 'input_token_details': {'cache_read': 0}, 'output_token_details': {'reasoning': 2085}})"
      ]
     },
     "execution_count": 26,
     "metadata": {},
     "output_type": "execute_result"
    }
   ],
   "source": [
    "config = {\"configurable\": {\"session_id\":\"Chat1\"}}\n",
    "with_session_history.invoke(add_messages,config=config)"
   ]
  },
  {
   "cell_type": "code",
   "execution_count": 27,
   "id": "2cffa463",
   "metadata": {},
   "outputs": [],
   "source": [
    "new_messages = HumanMessage(content=\"Can you Access links , if in case i provide you my Github repo link >? \")"
   ]
  },
  {
   "cell_type": "code",
   "execution_count": 28,
   "id": "fdd5bed7",
   "metadata": {},
   "outputs": [],
   "source": [
    "add_messages.append(new_messages)"
   ]
  },
  {
   "cell_type": "code",
   "execution_count": 29,
   "id": "af5b089c",
   "metadata": {},
   "outputs": [
    {
     "data": {
      "text/plain": [
       "AIMessage(content='Yes, I do remember your name! You told me it\\'s **Ishn**. Did I get that right?\\n\\n---\\n\\nRegarding your second question:\\n\\n**Can I access links, like a GitHub repo link, if you provide one?**\\n\\n**No, I cannot directly \"access\" or \"browse\" live internet links, including GitHub repositories.**\\n\\nHere\\'s what that means:\\n\\n*   **I cannot visit the URL:** I don\\'t have a web browser or the ability to make HTTP requests to fetch content from a URL in real-time.\\n*   **I cannot see private repositories:** Even if I could browse, I wouldn\\'t be able to access private repositories that require authentication.\\n*   **My knowledge is based on my training data:** My information comes from the vast dataset I was trained on, which includes a snapshot of the internet up to my last update. If a public GitHub repository or its content was part of that training data, I might have some information about it, but I cannot see its *current* state or any new commits/changes made after my training cutoff.\\n\\n**What I *can* do if you provide a link:**\\n\\n*   **Recognize it as a URL:** I can identify it as a link.\\n*   **Parse the URL:** I can understand its components (e.g., domain, path, repository name, username).\\n*   **Discuss the *type* of content:** I can understand that it\\'s a GitHub repository and discuss general concepts related to code, version control, etc.\\n*   **Process text *you provide from the link*:** If you copy and paste specific code snippets, file contents, or descriptions from your GitHub repo into our chat, I can then read and help you with *that provided text*.\\n\\nSo, while I can\\'t browse your repo, **you can absolutely copy and paste relevant code, file structures, or descriptions from your GitHub repo here, and I\\'d be happy to help you with them!**', additional_kwargs={}, response_metadata={'prompt_feedback': {'block_reason': 0, 'safety_ratings': []}, 'finish_reason': 'STOP', 'model_name': 'gemini-2.5-flash', 'safety_ratings': []}, id='run--5e6fb354-d7a8-4d56-af1f-15cffacd301e-0', usage_metadata={'input_tokens': 2850, 'output_tokens': 631, 'total_tokens': 3481, 'input_token_details': {'cache_read': 0}, 'output_token_details': {'reasoning': 212}})"
      ]
     },
     "execution_count": 29,
     "metadata": {},
     "output_type": "execute_result"
    }
   ],
   "source": [
    "with_session_history.invoke(add_messages,config=config)"
   ]
  },
  {
   "cell_type": "code",
   "execution_count": null,
   "id": "d74bdc83",
   "metadata": {},
   "outputs": [],
   "source": [
    "user_input_texual_message = input(\"Input the Question?\")\n"
   ]
  },
  {
   "cell_type": "code",
   "execution_count": 32,
   "id": "0578c895",
   "metadata": {},
   "outputs": [],
   "source": [
    "\n",
    "user_message = HumanMessage(content=user_input_texual_message)\n",
    "add_messages.append(user_message)\n",
    "response_final = with_session_history.invoke(add_messages,config=config)"
   ]
  },
  {
   "cell_type": "code",
   "execution_count": 33,
   "id": "85dcc606",
   "metadata": {},
   "outputs": [
    {
     "name": "stdout",
     "output_type": "stream",
     "text": [
      "==================================\u001b[1m Ai Message \u001b[0m==================================\n",
      "\n",
      "Yes, I do remember your name! You told me it's **Ishn**. Did I get that right?\n",
      "\n",
      "---\n",
      "\n",
      "Let's quickly recap the other questions:\n",
      "\n",
      "1.  **Trimmer in Messages and Chat context:** I provided a detailed explanation and code examples (in Python and JavaScript) for implementing both **length-based truncation** and **whitespace normalization** in our previous interactions. If you have any specific questions about that implementation or want to explore variations, feel free to ask!\n",
      "2.  **Can you access links, like a GitHub repo link, if I provide one?** No, I cannot directly access or browse live internet links, including GitHub repositories. My knowledge is based on my training data. However, you can **copy and paste specific code snippets, file contents, or descriptions** from your GitHub repo into our chat, and I'd be happy to help you with that provided text.\n",
      "3.  **Who is Sabrina Carpenter?** Sabrina Carpenter is an American singer, songwriter, and actress, known for her roles in Disney Channel's *Girl Meets World* and her successful pop music career with songs like \"Nonsense,\" \"Feather,\" and \"Espresso.\"\n",
      "\n",
      "It seems you asked \"Who is Sabrina Carpenter?\" twice, so I've answered it for you!\n"
     ]
    }
   ],
   "source": [
    "response_final.pretty_print()"
   ]
  },
  {
   "cell_type": "code",
   "execution_count": null,
   "id": "b0bdc024",
   "metadata": {},
   "outputs": [],
   "source": [
    "#--"
   ]
  }
 ],
 "metadata": {
  "kernelspec": {
   "display_name": "Python 3",
   "language": "python",
   "name": "python3"
  },
  "language_info": {
   "codemirror_mode": {
    "name": "ipython",
    "version": 3
   },
   "file_extension": ".py",
   "mimetype": "text/x-python",
   "name": "python",
   "nbconvert_exporter": "python",
   "pygments_lexer": "ipython3",
   "version": "3.11.9"
  }
 },
 "nbformat": 4,
 "nbformat_minor": 5
}
