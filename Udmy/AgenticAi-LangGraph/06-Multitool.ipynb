{
 "cells": [
  {
   "cell_type": "markdown",
   "id": "975503ec",
   "metadata": {},
   "source": [
    "Multi Tool Architecture With Tool binding + LLM\n"
   ]
  },
  {
   "cell_type": "code",
   "execution_count": null,
   "id": "2c6566c9",
   "metadata": {},
   "outputs": [],
   "source": [
    "from langchain_google_genai import google_genai"
   ]
  }
 ],
 "metadata": {
  "kernelspec": {
   "display_name": "Python 3",
   "language": "python",
   "name": "python3"
  },
  "language_info": {
   "name": "python",
   "version": "3.11.9"
  }
 },
 "nbformat": 4,
 "nbformat_minor": 5
}
