{
 "cells": [
  {
   "cell_type": "markdown",
   "id": "975503ec",
   "metadata": {},
   "source": [
    "Multi Tool Architecture With Tool binding + LLM\n"
   ]
  },
  {
   "cell_type": "code",
   "execution_count": null,
   "id": "2c6566c9",
   "metadata": {
    "vscode": {
     "languageId": "plaintext"
    }
   },
   "outputs": [],
   "source": [
    "from langchain"
   ]
  }
 ],
 "metadata": {
  "language_info": {
   "name": "python"
  }
 },
 "nbformat": 4,
 "nbformat_minor": 5
}
