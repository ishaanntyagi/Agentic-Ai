{
 "cells": [
  {
   "cell_type": "code",
   "execution_count": 25,
   "id": "fc00cd64",
   "metadata": {},
   "outputs": [],
   "source": [
    "from langchain_core.messages import AIMessage, HumanMessage\n",
    "from pprint import pprint\n",
    "import os\n",
    "from dotenv import load_dotenv\n",
    "\n",
    "load_dotenv()\n",
    "openai_api_key    = os.getenv(\"OPENAI_API_KEY\")\n",
    "gemini_api_key    = os.getenv(\"GEMINI_API_KEY\")\n",
    "groq_api_key      = os.getenv(\"GROQ_API_KEY\")\n",
    "langchain_api_key = os.getenv(\"LANGCHAIN_API_KEY\")\n"
   ]
  },
  {
   "cell_type": "code",
   "execution_count": 21,
   "id": "db51db83",
   "metadata": {},
   "outputs": [],
   "source": [
    "messages = [AIMessage(content=f\"Pls Tell me How May i Help you,\", name=\"LLM\")]\n",
    "messages.append(HumanMessage(content=f\"Hey My name is Ishn, im Eager to learn Coding Languages\",name=\"ishn\"))\n",
    "messages.append(AIMessage(content=f\"Which Programming language you seek interest in ishn\", name=\"LLM\"))\n",
    "messages.append(HumanMessage(content=f\"Consider That Language to be PYTHON\", name=\"ishn\"))\n"
   ]
  },
  {
   "cell_type": "code",
   "execution_count": 23,
   "id": "6d8f905c",
   "metadata": {},
   "outputs": [
    {
     "name": "stdout",
     "output_type": "stream",
     "text": [
      "==================================\u001b[1m Ai Message \u001b[0m==================================\n",
      "Name: LLM\n",
      "\n",
      "Pls Tell me How May i Help you,\n",
      "\n",
      "\n",
      "================================\u001b[1m Human Message \u001b[0m=================================\n",
      "Name: ishn\n",
      "\n",
      "Hey My name is Ishn, im Eager to learn Coding Languages\n",
      "\n",
      "\n",
      "==================================\u001b[1m Ai Message \u001b[0m==================================\n",
      "Name: LLM\n",
      "\n",
      "Which Programming language you seek interest in ishn\n",
      "\n",
      "\n",
      "================================\u001b[1m Human Message \u001b[0m=================================\n",
      "Name: ishn\n",
      "\n",
      "Consider That Language to be PYTHON\n",
      "\n",
      "\n"
     ]
    }
   ],
   "source": [
    "for msgs in messages:\n",
    "    msgs.pretty_print()\n",
    "    print(\"\\n\")\n"
   ]
  },
  {
   "cell_type": "code",
   "execution_count": null,
   "id": "3d82029c",
   "metadata": {},
   "outputs": [
    {
     "data": {
      "text/plain": [
       "AIMessage(content='<think>\\nOkay, so the user is asking if I remember their name. Let me look at the conversation history they provided. The last message from them is a HumanMessage with the name \\'ishn\\' and content about wanting to learn Python. The previous AI message addressed them as \\'ishn\\' as well.\\n\\nHmm, the user\\'s name is Ishn, but when they first introduced themselves, they wrote \"Ishn\" with a capital \\'I\\'. In the HumanMessage, the name is listed as \\'ishn\\' in lowercase. I need to confirm if that\\'s the same person. Since the content matches, it\\'s safe to assume it\\'s the same user. \\n\\nThey also mentioned they\\'re eager to learn Python. The AI correctly asked about the programming language, and the user specified Python. So, the user\\'s name is Ishn, and they\\'re interested in Python. \\n\\nI should respond by acknowledging their name, confirming their interest in Python, and offering help. Make sure to use their name as they provided it, which is \\'Ishn\\'. Avoid any markdown and keep the response friendly and encouraging. Let them know I\\'m here to assist with Python learning.\\n</think>\\n\\nHey Ishn! I remember your name. You mentioned you\\'re eager to learn Python. I\\'m here to help you with that! 🐍 Whether you need guidance on syntax, projects, or concepts like loops, functions, or data structures, feel free to ask. What would you like to explore first in Python?', additional_kwargs={}, response_metadata={'token_usage': {'completion_tokens': 308, 'prompt_tokens': 122, 'total_tokens': 430, 'completion_time': 0.773359251, 'prompt_time': 0.015455102, 'queue_time': 0.055698318, 'total_time': 0.788814353}, 'model_name': 'qwen/qwen3-32b', 'system_fingerprint': 'fp_5cf921caa2', 'service_tier': 'on_demand', 'finish_reason': 'stop', 'logprobs': None}, id='run--7cccd2fb-1ab6-48fb-bec8-124e56f9a088-0', usage_metadata={'input_tokens': 122, 'output_tokens': 308, 'total_tokens': 430})"
      ]
     },
     "execution_count": 28,
     "metadata": {},
     "output_type": "execute_result"
    }
   ],
   "source": [
    "from langchain_groq import ChatGroq\n",
    "llm = ChatGroq(model=\"qwen/qwen3-32b\")\n",
    "result = llm.invoke(f\"What was my name do you remember , also consider my {messages}\")\n",
    "result\n"
   ]
  }
 ],
 "metadata": {
  "kernelspec": {
   "display_name": "Python 3",
   "language": "python",
   "name": "python3"
  },
  "language_info": {
   "codemirror_mode": {
    "name": "ipython",
    "version": 3
   },
   "file_extension": ".py",
   "mimetype": "text/x-python",
   "name": "python",
   "nbconvert_exporter": "python",
   "pygments_lexer": "ipython3",
   "version": "3.11.9"
  }
 },
 "nbformat": 4,
 "nbformat_minor": 5
}
