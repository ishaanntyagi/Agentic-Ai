{
 "cells": [
  {
   "cell_type": "code",
   "execution_count": 3,
   "id": "fc7da740",
   "metadata": {},
   "outputs": [],
   "source": [
    "import os\n",
    "from dotenv import load_dotenv\n",
    "\n",
    "load_dotenv()\n",
    "openai_api_key    = os.getenv(\"OPENAI_API_KEY\")\n",
    "gemini_api_key    = os.getenv(\"GEMINI_API_KEY\")\n",
    "groq_api_key      = os.getenv(\"GROQ_API_KEY\")\n",
    "langchain_api_key = os.getenv(\"LANGCHAIN_API_KEY\")\n",
    "\n"
   ]
  },
  {
   "cell_type": "code",
   "execution_count": 4,
   "id": "50380f6c",
   "metadata": {},
   "outputs": [],
   "source": [
    "from typing_extensions import TypedDict\n",
    "class State(TypedDict):\n",
    "    graph_info:str"
   ]
  },
  {
   "cell_type": "code",
   "execution_count": 8,
   "id": "e803c1a7",
   "metadata": {},
   "outputs": [],
   "source": [
    "## this is the node number 1 \n",
    "\n",
    "def start_play(state:State): #here the functioning is reciving a Dictionary called state , and A key graph_state\n",
    "    print(\"Starting to play\") #This is the body of the node , Which need to be Executed\n",
    "    return{\"graph_info\":state[\"graph_info\"] + \"Playing Right now \"} #Here if the graph_info's Old Value was , Starting to play now its value is , xyz , playing Right now.\n",
    "### here the Value of Graph_info value is updated "
   ]
  },
  {
   "cell_type": "code",
   "execution_count": 13,
   "id": "a3d8ebd2",
   "metadata": {},
   "outputs": [],
   "source": [
    "#Node 2 \n",
    "def Cricket(state:State): \n",
    "    print(\"Starting to play Cricket \") \n",
    "    return{\"graph_info\":state[\"graph_info\"] + \"Playing Cricket Right now \"} \n",
    "\n",
    "\n",
    "def Badminton(state:State): \n",
    "    print(\"Starting to play badminton \") \n",
    "    return{\"graph_info\":state[\"graph_info\"] + \"Playing badminton Right now \"} "
   ]
  },
  {
   "cell_type": "code",
   "execution_count": 14,
   "id": "3badeb47",
   "metadata": {},
   "outputs": [
    {
     "data": {
      "text/plain": [
       "<langgraph.graph.state.StateGraph at 0x1fc041aaa50>"
      ]
     },
     "execution_count": 14,
     "metadata": {},
     "output_type": "execute_result"
    }
   ],
   "source": [
    "from langgraph.graph import StateGraph, START, END\n",
    "graph = StateGraph(State)\n",
    "\n",
    "graph.add_node(\"start_play\",start_play)\n",
    "graph.add_node(\"cricket\",Cricket)\n",
    "graph.add_node(\"badminton\",Badminton)"
   ]
  },
  {
   "cell_type": "code",
   "execution_count": 15,
   "id": "bc6f3b00",
   "metadata": {},
   "outputs": [
    {
     "data": {
      "text/plain": [
       "<langgraph.graph.state.StateGraph at 0x1fc041aaa50>"
      ]
     },
     "execution_count": 15,
     "metadata": {},
     "output_type": "execute_result"
    }
   ],
   "source": [
    "graph.add_edge(START,\"start_play\")\n",
    "graph.add_edge(\"cricket\",END)\n",
    "graph.add_edge(\"badminton\",END)\n"
   ]
  },
  {
   "cell_type": "code",
   "execution_count": 16,
   "id": "4475edf1",
   "metadata": {},
   "outputs": [],
   "source": [
    "graph_builder=graph.compile()"
   ]
  },
  {
   "cell_type": "code",
   "execution_count": 19,
   "id": "c838b828",
   "metadata": {},
   "outputs": [
    {
     "name": "stdout",
     "output_type": "stream",
     "text": [
      "Starting to play Cricket \n"
     ]
    },
    {
     "data": {
      "text/plain": [
       "{'graph_info': 'Hey My name is ishaanPlaying Cricket Right now '}"
      ]
     },
     "execution_count": 19,
     "metadata": {},
     "output_type": "execute_result"
    }
   ],
   "source": [
    "final = graph_builder.invoke({\"graph_info\":\"Hey My name is ishaan\"})\n",
    "final"
   ]
  }
 ],
 "metadata": {
  "kernelspec": {
   "display_name": "Python 3",
   "language": "python",
   "name": "python3"
  },
  "language_info": {
   "codemirror_mode": {
    "name": "ipython",
    "version": 3
   },
   "file_extension": ".py",
   "mimetype": "text/x-python",
   "name": "python",
   "nbconvert_exporter": "python",
   "pygments_lexer": "ipython3",
   "version": "3.11.9"
  }
 },
 "nbformat": 4,
 "nbformat_minor": 5
}
